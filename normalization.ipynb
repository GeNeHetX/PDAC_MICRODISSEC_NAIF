{
 "cells": [
  {
   "cell_type": "markdown",
   "metadata": {
    "vscode": {
     "languageId": "r"
    }
   },
   "source": [
    "DEseq2 Tutorial Jason Tsai 11th November 2021"
   ]
  },
  {
   "cell_type": "markdown",
   "metadata": {
    "vscode": {
     "languageId": "r"
    }
   },
   "source": [
    "# Initiate libraries"
   ]
  },
  {
   "cell_type": "code",
   "execution_count": 1,
   "metadata": {
    "vscode": {
     "languageId": "r"
    }
   },
   "outputs": [
    {
     "name": "stderr",
     "output_type": "stream",
     "text": [
      "── \u001b[1mAttaching core tidyverse packages\u001b[22m ──────────────────────── tidyverse 2.0.0 ──\n",
      "\u001b[32m✔\u001b[39m \u001b[34mdplyr    \u001b[39m 1.1.4     \u001b[32m✔\u001b[39m \u001b[34mreadr    \u001b[39m 2.1.5\n",
      "\u001b[32m✔\u001b[39m \u001b[34mforcats  \u001b[39m 1.0.0     \u001b[32m✔\u001b[39m \u001b[34mstringr  \u001b[39m 1.5.1\n",
      "\u001b[32m✔\u001b[39m \u001b[34mggplot2  \u001b[39m 3.5.1     \u001b[32m✔\u001b[39m \u001b[34mtibble   \u001b[39m 3.2.1\n",
      "\u001b[32m✔\u001b[39m \u001b[34mlubridate\u001b[39m 1.9.3     \u001b[32m✔\u001b[39m \u001b[34mtidyr    \u001b[39m 1.3.1\n",
      "\u001b[32m✔\u001b[39m \u001b[34mpurrr    \u001b[39m 1.0.2     \n",
      "── \u001b[1mConflicts\u001b[22m ────────────────────────────────────────── tidyverse_conflicts() ──\n",
      "\u001b[31m✖\u001b[39m \u001b[34mdplyr\u001b[39m::\u001b[32mfilter()\u001b[39m masks \u001b[34mstats\u001b[39m::filter()\n",
      "\u001b[31m✖\u001b[39m \u001b[34mdplyr\u001b[39m::\u001b[32mlag()\u001b[39m    masks \u001b[34mstats\u001b[39m::lag()\n",
      "\u001b[36mℹ\u001b[39m Use the conflicted package (\u001b[3m\u001b[34m<http://conflicted.r-lib.org/>\u001b[39m\u001b[23m) to force all conflicts to become errors\n",
      "Loading required package: S4Vectors\n",
      "\n",
      "Loading required package: stats4\n",
      "\n",
      "Loading required package: BiocGenerics\n",
      "\n",
      "\n",
      "Attaching package: ‘BiocGenerics’\n",
      "\n",
      "\n",
      "The following objects are masked from ‘package:lubridate’:\n",
      "\n",
      "    intersect, setdiff, union\n",
      "\n",
      "\n",
      "The following objects are masked from ‘package:dplyr’:\n",
      "\n",
      "    combine, intersect, setdiff, union\n",
      "\n",
      "\n",
      "The following objects are masked from ‘package:stats’:\n",
      "\n",
      "    IQR, mad, sd, var, xtabs\n",
      "\n",
      "\n",
      "The following objects are masked from ‘package:base’:\n",
      "\n",
      "    anyDuplicated, aperm, append, as.data.frame, basename, cbind,\n",
      "    colnames, dirname, do.call, duplicated, eval, evalq, Filter, Find,\n",
      "    get, grep, grepl, intersect, is.unsorted, lapply, Map, mapply,\n",
      "    match, mget, order, paste, pmax, pmax.int, pmin, pmin.int,\n",
      "    Position, rank, rbind, Reduce, rownames, sapply, setdiff, table,\n",
      "    tapply, union, unique, unsplit, which.max, which.min\n",
      "\n",
      "\n",
      "\n",
      "Attaching package: ‘S4Vectors’\n",
      "\n",
      "\n",
      "The following objects are masked from ‘package:lubridate’:\n",
      "\n",
      "    second, second<-\n",
      "\n",
      "\n",
      "The following objects are masked from ‘package:dplyr’:\n",
      "\n",
      "    first, rename\n",
      "\n",
      "\n",
      "The following object is masked from ‘package:tidyr’:\n",
      "\n",
      "    expand\n",
      "\n",
      "\n",
      "The following object is masked from ‘package:utils’:\n",
      "\n",
      "    findMatches\n",
      "\n",
      "\n",
      "The following objects are masked from ‘package:base’:\n",
      "\n",
      "    expand.grid, I, unname\n",
      "\n",
      "\n",
      "Loading required package: IRanges\n",
      "\n",
      "\n",
      "Attaching package: ‘IRanges’\n",
      "\n",
      "\n",
      "The following object is masked from ‘package:lubridate’:\n",
      "\n",
      "    %within%\n",
      "\n",
      "\n",
      "The following objects are masked from ‘package:dplyr’:\n",
      "\n",
      "    collapse, desc, slice\n",
      "\n",
      "\n",
      "The following object is masked from ‘package:purrr’:\n",
      "\n",
      "    reduce\n",
      "\n",
      "\n",
      "Loading required package: GenomicRanges\n",
      "\n",
      "Loading required package: GenomeInfoDb\n",
      "\n",
      "Loading required package: SummarizedExperiment\n",
      "\n",
      "Loading required package: MatrixGenerics\n",
      "\n",
      "Loading required package: matrixStats\n",
      "\n",
      "\n",
      "Attaching package: ‘matrixStats’\n",
      "\n",
      "\n",
      "The following object is masked from ‘package:dplyr’:\n",
      "\n",
      "    count\n",
      "\n",
      "\n",
      "\n",
      "Attaching package: ‘MatrixGenerics’\n",
      "\n",
      "\n",
      "The following objects are masked from ‘package:matrixStats’:\n",
      "\n",
      "    colAlls, colAnyNAs, colAnys, colAvgsPerRowSet, colCollapse,\n",
      "    colCounts, colCummaxs, colCummins, colCumprods, colCumsums,\n",
      "    colDiffs, colIQRDiffs, colIQRs, colLogSumExps, colMadDiffs,\n",
      "    colMads, colMaxs, colMeans2, colMedians, colMins, colOrderStats,\n",
      "    colProds, colQuantiles, colRanges, colRanks, colSdDiffs, colSds,\n",
      "    colSums2, colTabulates, colVarDiffs, colVars, colWeightedMads,\n",
      "    colWeightedMeans, colWeightedMedians, colWeightedSds,\n",
      "    colWeightedVars, rowAlls, rowAnyNAs, rowAnys, rowAvgsPerColSet,\n",
      "    rowCollapse, rowCounts, rowCummaxs, rowCummins, rowCumprods,\n",
      "    rowCumsums, rowDiffs, rowIQRDiffs, rowIQRs, rowLogSumExps,\n",
      "    rowMadDiffs, rowMads, rowMaxs, rowMeans2, rowMedians, rowMins,\n",
      "    rowOrderStats, rowProds, rowQuantiles, rowRanges, rowRanks,\n",
      "    rowSdDiffs, rowSds, rowSums2, rowTabulates, rowVarDiffs, rowVars,\n",
      "    rowWeightedMads, rowWeightedMeans, rowWeightedMedians,\n",
      "    rowWeightedSds, rowWeightedVars\n",
      "\n",
      "\n",
      "Loading required package: Biobase\n",
      "\n",
      "Welcome to Bioconductor\n",
      "\n",
      "    Vignettes contain introductory material; view with\n",
      "    'browseVignettes()'. To cite Bioconductor, see\n",
      "    'citation(\"Biobase\")', and for packages 'citation(\"pkgname\")'.\n",
      "\n",
      "\n",
      "\n",
      "Attaching package: ‘Biobase’\n",
      "\n",
      "\n",
      "The following object is masked from ‘package:MatrixGenerics’:\n",
      "\n",
      "    rowMedians\n",
      "\n",
      "\n",
      "The following objects are masked from ‘package:matrixStats’:\n",
      "\n",
      "    anyMissing, rowMedians\n",
      "\n",
      "\n",
      "Loading required package: MASS\n",
      "\n",
      "\n",
      "Attaching package: ‘MASS’\n",
      "\n",
      "\n",
      "The following object is masked from ‘package:dplyr’:\n",
      "\n",
      "    select\n",
      "\n",
      "\n"
     ]
    }
   ],
   "source": [
    "library(\"tidyverse\")\n",
    "library(\"DESeq2\")\n",
    "library(\"pheatmap\")\n",
    "library(\"RColorBrewer\")\n",
    "library(\"apeglm\")\n",
    "library(\"CancerRNASig\")\n",
    "library(\"DEGreport\")"
   ]
  },
  {
   "cell_type": "markdown",
   "metadata": {
    "vscode": {
     "languageId": "r"
    }
   },
   "source": [
    "# Data import\n",
    "To demonstate the use of DESeqDataSetFromMatrix, we will read in count data from the pasilla package.\n",
    "We read in a count matrix, which we will name `cts`, and the sample information table, which we will name `coldata`."
   ]
  },
  {
   "cell_type": "code",
   "execution_count": 2,
   "metadata": {
    "vscode": {
     "languageId": "r"
    }
   },
   "outputs": [],
   "source": [
    "# Define the counts matrix\n",
    "cts <- read.csv(file = \"data/PDAC_MICRODISSEC_NAIF/rna_seq_selected.csv\", row.names = 1) |>\n",
    "  as.matrix()\n",
    "\n",
    "# Define the sample information table\n",
    "coldata <- read.csv(file = \"data/PDAC_MICRODISSEC_NAIF/rna_seq_metadata_selected.csv\", row.names = 1)"
   ]
  },
  {
   "cell_type": "markdown",
   "metadata": {},
   "source": [
    "# Normalize the counts using upper quartile normalization"
   ]
  },
  {
   "cell_type": "code",
   "execution_count": 3,
   "metadata": {
    "vscode": {
     "languageId": "r"
    }
   },
   "outputs": [
    {
     "data": {
      "text/html": [
       "<table class=\"dataframe\">\n",
       "<caption>A matrix: 6 × 29 of type int</caption>\n",
       "<thead>\n",
       "\t<tr><th></th><th scope=col>BPDAC_023_19_L1_S92</th><th scope=col>BPDAC_023_26_L1_S5</th><th scope=col>BPDAC_023_26_L2_S13</th><th scope=col>X0823_012</th><th scope=col>X0823_013</th><th scope=col>BPDAC_029_26_L1_S70</th><th scope=col>BPDAC_029_26_L2_S78</th><th scope=col>X0923_009</th><th scope=col>X0923_010</th><th scope=col>BPDAC_029_36_L1_S7</th><th scope=col>⋯</th><th scope=col>X0623_015</th><th scope=col>BPDAC_038_20_L1_S48</th><th scope=col>BPDAC_042_11_L1_S100</th><th scope=col>BPDAC_042_11_L2_S101</th><th scope=col>BPDAC_042_11_L3_S102</th><th scope=col>BPDAC_086_31_L1_S194_L003</th><th scope=col>BPDAC_086_31_L2_S202_L003</th><th scope=col>BPDAC_086_37_L1_S232_L004</th><th scope=col>BPDAC_086_38_L1_S240_L004</th><th scope=col>BPDAC_086_38_L2_S247_L004</th></tr>\n",
       "</thead>\n",
       "<tbody>\n",
       "\t<tr><th scope=row>ENSG00000160072</th><td> 459</td><td> 572</td><td>0</td><td> 365</td><td> 312</td><td>77</td><td>86</td><td> 86</td><td> 67</td><td>27</td><td>⋯</td><td> 17</td><td>135</td><td>188</td><td>833</td><td>80</td><td>687</td><td>381</td><td>329</td><td>574</td><td>201</td></tr>\n",
       "\t<tr><th scope=row>ENSG00000234396</th><td>   0</td><td>   0</td><td>0</td><td>   5</td><td>   0</td><td> 0</td><td> 0</td><td>  0</td><td> 13</td><td> 0</td><td>⋯</td><td>  0</td><td>  1</td><td> 10</td><td>  6</td><td> 0</td><td>  0</td><td>  0</td><td>  0</td><td>  0</td><td>  2</td></tr>\n",
       "\t<tr><th scope=row>ENSG00000225972</th><td>3364</td><td>3967</td><td>0</td><td>2501</td><td>4641</td><td>54</td><td>22</td><td> 72</td><td> 41</td><td> 7</td><td>⋯</td><td> 59</td><td>  8</td><td> 13</td><td> 34</td><td> 5</td><td> 24</td><td> 21</td><td> 36</td><td> 43</td><td> 12</td></tr>\n",
       "\t<tr><th scope=row>ENSG00000224315</th><td>  30</td><td>   0</td><td>0</td><td>  25</td><td>  40</td><td> 0</td><td> 0</td><td> 85</td><td>  0</td><td> 0</td><td>⋯</td><td> 14</td><td>  2</td><td>  2</td><td>  2</td><td>50</td><td> 58</td><td> 36</td><td> 20</td><td> 46</td><td>  0</td></tr>\n",
       "\t<tr><th scope=row>ENSG00000198744</th><td> 314</td><td> 167</td><td>0</td><td> 329</td><td> 330</td><td>23</td><td>44</td><td>160</td><td>128</td><td>33</td><td>⋯</td><td>154</td><td> 17</td><td> 51</td><td>182</td><td>51</td><td>135</td><td> 44</td><td> 76</td><td>103</td><td> 37</td></tr>\n",
       "\t<tr><th scope=row>ENSG00000279928</th><td>   1</td><td>   0</td><td>0</td><td>   0</td><td>   0</td><td> 0</td><td> 0</td><td>  0</td><td>  0</td><td> 0</td><td>⋯</td><td>  1</td><td>  1</td><td>  6</td><td>  1</td><td> 0</td><td>  8</td><td>  3</td><td>  4</td><td>  1</td><td>  2</td></tr>\n",
       "</tbody>\n",
       "</table>\n"
      ],
      "text/latex": [
       "A matrix: 6 × 29 of type int\n",
       "\\begin{tabular}{r|lllllllllllllllllllll}\n",
       "  & BPDAC\\_023\\_19\\_L1\\_S92 & BPDAC\\_023\\_26\\_L1\\_S5 & BPDAC\\_023\\_26\\_L2\\_S13 & X0823\\_012 & X0823\\_013 & BPDAC\\_029\\_26\\_L1\\_S70 & BPDAC\\_029\\_26\\_L2\\_S78 & X0923\\_009 & X0923\\_010 & BPDAC\\_029\\_36\\_L1\\_S7 & ⋯ & X0623\\_015 & BPDAC\\_038\\_20\\_L1\\_S48 & BPDAC\\_042\\_11\\_L1\\_S100 & BPDAC\\_042\\_11\\_L2\\_S101 & BPDAC\\_042\\_11\\_L3\\_S102 & BPDAC\\_086\\_31\\_L1\\_S194\\_L003 & BPDAC\\_086\\_31\\_L2\\_S202\\_L003 & BPDAC\\_086\\_37\\_L1\\_S232\\_L004 & BPDAC\\_086\\_38\\_L1\\_S240\\_L004 & BPDAC\\_086\\_38\\_L2\\_S247\\_L004\\\\\n",
       "\\hline\n",
       "\tENSG00000160072 &  459 &  572 & 0 &  365 &  312 & 77 & 86 &  86 &  67 & 27 & ⋯ &  17 & 135 & 188 & 833 & 80 & 687 & 381 & 329 & 574 & 201\\\\\n",
       "\tENSG00000234396 &    0 &    0 & 0 &    5 &    0 &  0 &  0 &   0 &  13 &  0 & ⋯ &   0 &   1 &  10 &   6 &  0 &   0 &   0 &   0 &   0 &   2\\\\\n",
       "\tENSG00000225972 & 3364 & 3967 & 0 & 2501 & 4641 & 54 & 22 &  72 &  41 &  7 & ⋯ &  59 &   8 &  13 &  34 &  5 &  24 &  21 &  36 &  43 &  12\\\\\n",
       "\tENSG00000224315 &   30 &    0 & 0 &   25 &   40 &  0 &  0 &  85 &   0 &  0 & ⋯ &  14 &   2 &   2 &   2 & 50 &  58 &  36 &  20 &  46 &   0\\\\\n",
       "\tENSG00000198744 &  314 &  167 & 0 &  329 &  330 & 23 & 44 & 160 & 128 & 33 & ⋯ & 154 &  17 &  51 & 182 & 51 & 135 &  44 &  76 & 103 &  37\\\\\n",
       "\tENSG00000279928 &    1 &    0 & 0 &    0 &    0 &  0 &  0 &   0 &   0 &  0 & ⋯ &   1 &   1 &   6 &   1 &  0 &   8 &   3 &   4 &   1 &   2\\\\\n",
       "\\end{tabular}\n"
      ],
      "text/markdown": [
       "\n",
       "A matrix: 6 × 29 of type int\n",
       "\n",
       "| <!--/--> | BPDAC_023_19_L1_S92 | BPDAC_023_26_L1_S5 | BPDAC_023_26_L2_S13 | X0823_012 | X0823_013 | BPDAC_029_26_L1_S70 | BPDAC_029_26_L2_S78 | X0923_009 | X0923_010 | BPDAC_029_36_L1_S7 | ⋯ | X0623_015 | BPDAC_038_20_L1_S48 | BPDAC_042_11_L1_S100 | BPDAC_042_11_L2_S101 | BPDAC_042_11_L3_S102 | BPDAC_086_31_L1_S194_L003 | BPDAC_086_31_L2_S202_L003 | BPDAC_086_37_L1_S232_L004 | BPDAC_086_38_L1_S240_L004 | BPDAC_086_38_L2_S247_L004 |\n",
       "|---|---|---|---|---|---|---|---|---|---|---|---|---|---|---|---|---|---|---|---|---|---|\n",
       "| ENSG00000160072 |  459 |  572 | 0 |  365 |  312 | 77 | 86 |  86 |  67 | 27 | ⋯ |  17 | 135 | 188 | 833 | 80 | 687 | 381 | 329 | 574 | 201 |\n",
       "| ENSG00000234396 |    0 |    0 | 0 |    5 |    0 |  0 |  0 |   0 |  13 |  0 | ⋯ |   0 |   1 |  10 |   6 |  0 |   0 |   0 |   0 |   0 |   2 |\n",
       "| ENSG00000225972 | 3364 | 3967 | 0 | 2501 | 4641 | 54 | 22 |  72 |  41 |  7 | ⋯ |  59 |   8 |  13 |  34 |  5 |  24 |  21 |  36 |  43 |  12 |\n",
       "| ENSG00000224315 |   30 |    0 | 0 |   25 |   40 |  0 |  0 |  85 |   0 |  0 | ⋯ |  14 |   2 |   2 |   2 | 50 |  58 |  36 |  20 |  46 |   0 |\n",
       "| ENSG00000198744 |  314 |  167 | 0 |  329 |  330 | 23 | 44 | 160 | 128 | 33 | ⋯ | 154 |  17 |  51 | 182 | 51 | 135 |  44 |  76 | 103 |  37 |\n",
       "| ENSG00000279928 |    1 |    0 | 0 |    0 |    0 |  0 |  0 |   0 |   0 |  0 | ⋯ |   1 |   1 |   6 |   1 |  0 |   8 |   3 |   4 |   1 |   2 |\n",
       "\n"
      ],
      "text/plain": [
       "                BPDAC_023_19_L1_S92 BPDAC_023_26_L1_S5 BPDAC_023_26_L2_S13\n",
       "ENSG00000160072  459                 572               0                  \n",
       "ENSG00000234396    0                   0               0                  \n",
       "ENSG00000225972 3364                3967               0                  \n",
       "ENSG00000224315   30                   0               0                  \n",
       "ENSG00000198744  314                 167               0                  \n",
       "ENSG00000279928    1                   0               0                  \n",
       "                X0823_012 X0823_013 BPDAC_029_26_L1_S70 BPDAC_029_26_L2_S78\n",
       "ENSG00000160072  365       312      77                  86                 \n",
       "ENSG00000234396    5         0       0                   0                 \n",
       "ENSG00000225972 2501      4641      54                  22                 \n",
       "ENSG00000224315   25        40       0                   0                 \n",
       "ENSG00000198744  329       330      23                  44                 \n",
       "ENSG00000279928    0         0       0                   0                 \n",
       "                X0923_009 X0923_010 BPDAC_029_36_L1_S7 ⋯ X0623_015\n",
       "ENSG00000160072  86        67       27                 ⋯  17      \n",
       "ENSG00000234396   0        13        0                 ⋯   0      \n",
       "ENSG00000225972  72        41        7                 ⋯  59      \n",
       "ENSG00000224315  85         0        0                 ⋯  14      \n",
       "ENSG00000198744 160       128       33                 ⋯ 154      \n",
       "ENSG00000279928   0         0        0                 ⋯   1      \n",
       "                BPDAC_038_20_L1_S48 BPDAC_042_11_L1_S100 BPDAC_042_11_L2_S101\n",
       "ENSG00000160072 135                 188                  833                 \n",
       "ENSG00000234396   1                  10                    6                 \n",
       "ENSG00000225972   8                  13                   34                 \n",
       "ENSG00000224315   2                   2                    2                 \n",
       "ENSG00000198744  17                  51                  182                 \n",
       "ENSG00000279928   1                   6                    1                 \n",
       "                BPDAC_042_11_L3_S102 BPDAC_086_31_L1_S194_L003\n",
       "ENSG00000160072 80                   687                      \n",
       "ENSG00000234396  0                     0                      \n",
       "ENSG00000225972  5                    24                      \n",
       "ENSG00000224315 50                    58                      \n",
       "ENSG00000198744 51                   135                      \n",
       "ENSG00000279928  0                     8                      \n",
       "                BPDAC_086_31_L2_S202_L003 BPDAC_086_37_L1_S232_L004\n",
       "ENSG00000160072 381                       329                      \n",
       "ENSG00000234396   0                         0                      \n",
       "ENSG00000225972  21                        36                      \n",
       "ENSG00000224315  36                        20                      \n",
       "ENSG00000198744  44                        76                      \n",
       "ENSG00000279928   3                         4                      \n",
       "                BPDAC_086_38_L1_S240_L004 BPDAC_086_38_L2_S247_L004\n",
       "ENSG00000160072 574                       201                      \n",
       "ENSG00000234396   0                         2                      \n",
       "ENSG00000225972  43                        12                      \n",
       "ENSG00000224315  46                         0                      \n",
       "ENSG00000198744 103                        37                      \n",
       "ENSG00000279928   1                         2                      "
      ]
     },
     "metadata": {},
     "output_type": "display_data"
    }
   ],
   "source": [
    "head(cts)"
   ]
  },
  {
   "cell_type": "code",
   "execution_count": 4,
   "metadata": {
    "vscode": {
     "languageId": "r"
    }
   },
   "outputs": [
    {
     "data": {
      "text/html": [
       "<table class=\"dataframe\">\n",
       "<caption>A matrix: 6 × 29 of type dbl</caption>\n",
       "<thead>\n",
       "\t<tr><th></th><th scope=col>BPDAC_023_19_L1_S92</th><th scope=col>BPDAC_023_26_L1_S5</th><th scope=col>BPDAC_023_26_L2_S13</th><th scope=col>X0823_012</th><th scope=col>X0823_013</th><th scope=col>BPDAC_029_26_L1_S70</th><th scope=col>BPDAC_029_26_L2_S78</th><th scope=col>X0923_009</th><th scope=col>X0923_010</th><th scope=col>BPDAC_029_36_L1_S7</th><th scope=col>⋯</th><th scope=col>X0623_015</th><th scope=col>BPDAC_038_20_L1_S48</th><th scope=col>BPDAC_042_11_L1_S100</th><th scope=col>BPDAC_042_11_L2_S101</th><th scope=col>BPDAC_042_11_L3_S102</th><th scope=col>BPDAC_086_31_L1_S194_L003</th><th scope=col>BPDAC_086_31_L2_S202_L003</th><th scope=col>BPDAC_086_37_L1_S232_L004</th><th scope=col>BPDAC_086_38_L1_S240_L004</th><th scope=col>BPDAC_086_38_L2_S247_L004</th></tr>\n",
       "</thead>\n",
       "<tbody>\n",
       "\t<tr><th scope=row>ENSG00000160072</th><td>10.884086</td><td>10.931638</td><td>0</td><td>10.931381</td><td>10.246750</td><td>9.562055</td><td>9.499226</td><td> 9.137226</td><td> 9.541957</td><td>8.315816</td><td>⋯</td><td> 7.281192</td><td>10.021621</td><td>11.217198</td><td>11.860990</td><td>9.130418</td><td>11.489586</td><td>10.907188</td><td>10.476992</td><td>10.747826</td><td>9.850216</td></tr>\n",
       "\t<tr><th scope=row>ENSG00000234396</th><td> 0.000000</td><td> 0.000000</td><td>0</td><td> 4.793790</td><td> 0.000000</td><td>0.000000</td><td>0.000000</td><td> 0.000000</td><td> 7.184324</td><td>0.000000</td><td>⋯</td><td> 0.000000</td><td> 3.119739</td><td> 6.995284</td><td> 4.796271</td><td>0.000000</td><td> 0.000000</td><td> 0.000000</td><td> 0.000000</td><td> 0.000000</td><td>3.346859</td></tr>\n",
       "\t<tr><th scope=row>ENSG00000225972</th><td>13.757038</td><td>13.724967</td><td>0</td><td>13.707287</td><td>14.140460</td><td>9.050969</td><td>7.538181</td><td> 8.881384</td><td> 8.834647</td><td>6.381161</td><td>⋯</td><td> 9.069755</td><td> 5.966672</td><td> 7.371184</td><td> 7.255366</td><td>5.168523</td><td> 6.664176</td><td> 6.738679</td><td> 7.293188</td><td> 7.019507</td><td>5.808536</td></tr>\n",
       "\t<tr><th scope=row>ENSG00000224315</th><td> 6.959501</td><td> 0.000000</td><td>0</td><td> 7.073497</td><td> 7.291327</td><td>0.000000</td><td>0.000000</td><td> 9.120382</td><td> 0.000000</td><td>0.000000</td><td>⋯</td><td> 7.003071</td><td> 4.034270</td><td> 4.717893</td><td> 3.311586</td><td>8.453889</td><td> 7.928831</td><td> 7.510647</td><td> 6.452531</td><td> 7.116079</td><td>0.000000</td></tr>\n",
       "\t<tr><th scope=row>ENSG00000198744</th><td>10.336709</td><td> 9.157261</td><td>0</td><td>10.781653</td><td>10.327605</td><td>7.823305</td><td>8.534295</td><td>10.031703</td><td>10.474945</td><td>8.604499</td><td>⋯</td><td>10.452241</td><td> 7.041870</td><td> 9.336662</td><td> 9.667999</td><td>8.482378</td><td> 9.144285</td><td> 7.798715</td><td> 8.366341</td><td> 8.273251</td><td>7.415529</td></tr>\n",
       "\t<tr><th scope=row>ENSG00000279928</th><td> 2.354798</td><td> 0.000000</td><td>0</td><td> 0.000000</td><td> 0.000000</td><td>0.000000</td><td>0.000000</td><td> 0.000000</td><td> 0.000000</td><td>0.000000</td><td>⋯</td><td> 3.334984</td><td> 3.119739</td><td> 6.265838</td><td> 2.450033</td><td>0.000000</td><td> 5.107387</td><td> 4.010185</td><td> 4.195034</td><td> 1.997839</td><td>3.346859</td></tr>\n",
       "</tbody>\n",
       "</table>\n"
      ],
      "text/latex": [
       "A matrix: 6 × 29 of type dbl\n",
       "\\begin{tabular}{r|lllllllllllllllllllll}\n",
       "  & BPDAC\\_023\\_19\\_L1\\_S92 & BPDAC\\_023\\_26\\_L1\\_S5 & BPDAC\\_023\\_26\\_L2\\_S13 & X0823\\_012 & X0823\\_013 & BPDAC\\_029\\_26\\_L1\\_S70 & BPDAC\\_029\\_26\\_L2\\_S78 & X0923\\_009 & X0923\\_010 & BPDAC\\_029\\_36\\_L1\\_S7 & ⋯ & X0623\\_015 & BPDAC\\_038\\_20\\_L1\\_S48 & BPDAC\\_042\\_11\\_L1\\_S100 & BPDAC\\_042\\_11\\_L2\\_S101 & BPDAC\\_042\\_11\\_L3\\_S102 & BPDAC\\_086\\_31\\_L1\\_S194\\_L003 & BPDAC\\_086\\_31\\_L2\\_S202\\_L003 & BPDAC\\_086\\_37\\_L1\\_S232\\_L004 & BPDAC\\_086\\_38\\_L1\\_S240\\_L004 & BPDAC\\_086\\_38\\_L2\\_S247\\_L004\\\\\n",
       "\\hline\n",
       "\tENSG00000160072 & 10.884086 & 10.931638 & 0 & 10.931381 & 10.246750 & 9.562055 & 9.499226 &  9.137226 &  9.541957 & 8.315816 & ⋯ &  7.281192 & 10.021621 & 11.217198 & 11.860990 & 9.130418 & 11.489586 & 10.907188 & 10.476992 & 10.747826 & 9.850216\\\\\n",
       "\tENSG00000234396 &  0.000000 &  0.000000 & 0 &  4.793790 &  0.000000 & 0.000000 & 0.000000 &  0.000000 &  7.184324 & 0.000000 & ⋯ &  0.000000 &  3.119739 &  6.995284 &  4.796271 & 0.000000 &  0.000000 &  0.000000 &  0.000000 &  0.000000 & 3.346859\\\\\n",
       "\tENSG00000225972 & 13.757038 & 13.724967 & 0 & 13.707287 & 14.140460 & 9.050969 & 7.538181 &  8.881384 &  8.834647 & 6.381161 & ⋯ &  9.069755 &  5.966672 &  7.371184 &  7.255366 & 5.168523 &  6.664176 &  6.738679 &  7.293188 &  7.019507 & 5.808536\\\\\n",
       "\tENSG00000224315 &  6.959501 &  0.000000 & 0 &  7.073497 &  7.291327 & 0.000000 & 0.000000 &  9.120382 &  0.000000 & 0.000000 & ⋯ &  7.003071 &  4.034270 &  4.717893 &  3.311586 & 8.453889 &  7.928831 &  7.510647 &  6.452531 &  7.116079 & 0.000000\\\\\n",
       "\tENSG00000198744 & 10.336709 &  9.157261 & 0 & 10.781653 & 10.327605 & 7.823305 & 8.534295 & 10.031703 & 10.474945 & 8.604499 & ⋯ & 10.452241 &  7.041870 &  9.336662 &  9.667999 & 8.482378 &  9.144285 &  7.798715 &  8.366341 &  8.273251 & 7.415529\\\\\n",
       "\tENSG00000279928 &  2.354798 &  0.000000 & 0 &  0.000000 &  0.000000 & 0.000000 & 0.000000 &  0.000000 &  0.000000 & 0.000000 & ⋯ &  3.334984 &  3.119739 &  6.265838 &  2.450033 & 0.000000 &  5.107387 &  4.010185 &  4.195034 &  1.997839 & 3.346859\\\\\n",
       "\\end{tabular}\n"
      ],
      "text/markdown": [
       "\n",
       "A matrix: 6 × 29 of type dbl\n",
       "\n",
       "| <!--/--> | BPDAC_023_19_L1_S92 | BPDAC_023_26_L1_S5 | BPDAC_023_26_L2_S13 | X0823_012 | X0823_013 | BPDAC_029_26_L1_S70 | BPDAC_029_26_L2_S78 | X0923_009 | X0923_010 | BPDAC_029_36_L1_S7 | ⋯ | X0623_015 | BPDAC_038_20_L1_S48 | BPDAC_042_11_L1_S100 | BPDAC_042_11_L2_S101 | BPDAC_042_11_L3_S102 | BPDAC_086_31_L1_S194_L003 | BPDAC_086_31_L2_S202_L003 | BPDAC_086_37_L1_S232_L004 | BPDAC_086_38_L1_S240_L004 | BPDAC_086_38_L2_S247_L004 |\n",
       "|---|---|---|---|---|---|---|---|---|---|---|---|---|---|---|---|---|---|---|---|---|---|\n",
       "| ENSG00000160072 | 10.884086 | 10.931638 | 0 | 10.931381 | 10.246750 | 9.562055 | 9.499226 |  9.137226 |  9.541957 | 8.315816 | ⋯ |  7.281192 | 10.021621 | 11.217198 | 11.860990 | 9.130418 | 11.489586 | 10.907188 | 10.476992 | 10.747826 | 9.850216 |\n",
       "| ENSG00000234396 |  0.000000 |  0.000000 | 0 |  4.793790 |  0.000000 | 0.000000 | 0.000000 |  0.000000 |  7.184324 | 0.000000 | ⋯ |  0.000000 |  3.119739 |  6.995284 |  4.796271 | 0.000000 |  0.000000 |  0.000000 |  0.000000 |  0.000000 | 3.346859 |\n",
       "| ENSG00000225972 | 13.757038 | 13.724967 | 0 | 13.707287 | 14.140460 | 9.050969 | 7.538181 |  8.881384 |  8.834647 | 6.381161 | ⋯ |  9.069755 |  5.966672 |  7.371184 |  7.255366 | 5.168523 |  6.664176 |  6.738679 |  7.293188 |  7.019507 | 5.808536 |\n",
       "| ENSG00000224315 |  6.959501 |  0.000000 | 0 |  7.073497 |  7.291327 | 0.000000 | 0.000000 |  9.120382 |  0.000000 | 0.000000 | ⋯ |  7.003071 |  4.034270 |  4.717893 |  3.311586 | 8.453889 |  7.928831 |  7.510647 |  6.452531 |  7.116079 | 0.000000 |\n",
       "| ENSG00000198744 | 10.336709 |  9.157261 | 0 | 10.781653 | 10.327605 | 7.823305 | 8.534295 | 10.031703 | 10.474945 | 8.604499 | ⋯ | 10.452241 |  7.041870 |  9.336662 |  9.667999 | 8.482378 |  9.144285 |  7.798715 |  8.366341 |  8.273251 | 7.415529 |\n",
       "| ENSG00000279928 |  2.354798 |  0.000000 | 0 |  0.000000 |  0.000000 | 0.000000 | 0.000000 |  0.000000 |  0.000000 | 0.000000 | ⋯ |  3.334984 |  3.119739 |  6.265838 |  2.450033 | 0.000000 |  5.107387 |  4.010185 |  4.195034 |  1.997839 | 3.346859 |\n",
       "\n"
      ],
      "text/plain": [
       "                BPDAC_023_19_L1_S92 BPDAC_023_26_L1_S5 BPDAC_023_26_L2_S13\n",
       "ENSG00000160072 10.884086           10.931638          0                  \n",
       "ENSG00000234396  0.000000            0.000000          0                  \n",
       "ENSG00000225972 13.757038           13.724967          0                  \n",
       "ENSG00000224315  6.959501            0.000000          0                  \n",
       "ENSG00000198744 10.336709            9.157261          0                  \n",
       "ENSG00000279928  2.354798            0.000000          0                  \n",
       "                X0823_012 X0823_013 BPDAC_029_26_L1_S70 BPDAC_029_26_L2_S78\n",
       "ENSG00000160072 10.931381 10.246750 9.562055            9.499226           \n",
       "ENSG00000234396  4.793790  0.000000 0.000000            0.000000           \n",
       "ENSG00000225972 13.707287 14.140460 9.050969            7.538181           \n",
       "ENSG00000224315  7.073497  7.291327 0.000000            0.000000           \n",
       "ENSG00000198744 10.781653 10.327605 7.823305            8.534295           \n",
       "ENSG00000279928  0.000000  0.000000 0.000000            0.000000           \n",
       "                X0923_009 X0923_010 BPDAC_029_36_L1_S7 ⋯ X0623_015\n",
       "ENSG00000160072  9.137226  9.541957 8.315816           ⋯  7.281192\n",
       "ENSG00000234396  0.000000  7.184324 0.000000           ⋯  0.000000\n",
       "ENSG00000225972  8.881384  8.834647 6.381161           ⋯  9.069755\n",
       "ENSG00000224315  9.120382  0.000000 0.000000           ⋯  7.003071\n",
       "ENSG00000198744 10.031703 10.474945 8.604499           ⋯ 10.452241\n",
       "ENSG00000279928  0.000000  0.000000 0.000000           ⋯  3.334984\n",
       "                BPDAC_038_20_L1_S48 BPDAC_042_11_L1_S100 BPDAC_042_11_L2_S101\n",
       "ENSG00000160072 10.021621           11.217198            11.860990           \n",
       "ENSG00000234396  3.119739            6.995284             4.796271           \n",
       "ENSG00000225972  5.966672            7.371184             7.255366           \n",
       "ENSG00000224315  4.034270            4.717893             3.311586           \n",
       "ENSG00000198744  7.041870            9.336662             9.667999           \n",
       "ENSG00000279928  3.119739            6.265838             2.450033           \n",
       "                BPDAC_042_11_L3_S102 BPDAC_086_31_L1_S194_L003\n",
       "ENSG00000160072 9.130418             11.489586                \n",
       "ENSG00000234396 0.000000              0.000000                \n",
       "ENSG00000225972 5.168523              6.664176                \n",
       "ENSG00000224315 8.453889              7.928831                \n",
       "ENSG00000198744 8.482378              9.144285                \n",
       "ENSG00000279928 0.000000              5.107387                \n",
       "                BPDAC_086_31_L2_S202_L003 BPDAC_086_37_L1_S232_L004\n",
       "ENSG00000160072 10.907188                 10.476992                \n",
       "ENSG00000234396  0.000000                  0.000000                \n",
       "ENSG00000225972  6.738679                  7.293188                \n",
       "ENSG00000224315  7.510647                  6.452531                \n",
       "ENSG00000198744  7.798715                  8.366341                \n",
       "ENSG00000279928  4.010185                  4.195034                \n",
       "                BPDAC_086_38_L1_S240_L004 BPDAC_086_38_L2_S247_L004\n",
       "ENSG00000160072 10.747826                 9.850216                 \n",
       "ENSG00000234396  0.000000                 3.346859                 \n",
       "ENSG00000225972  7.019507                 5.808536                 \n",
       "ENSG00000224315  7.116079                 0.000000                 \n",
       "ENSG00000198744  8.273251                 7.415529                 \n",
       "ENSG00000279928  1.997839                 3.346859                 "
      ]
     },
     "metadata": {},
     "output_type": "display_data"
    }
   ],
   "source": [
    "# Define the function to normalize the counts\n",
    "uqnorm <- function(rawcounts)\n",
    "{\n",
    "  log2(1 + (t(t(rawcounts)/apply(rawcounts, 2, function(x) {\n",
    "    quantile(x[which(x > 0)], probs = 0.75)})) * 1000))\n",
    "}\n",
    "\n",
    "# Normalize the counts\n",
    "cts_normalized_uqnorm <- uqnorm(cts)\n",
    "\n",
    "head(cts_normalized_uqnorm)"
   ]
  },
  {
   "cell_type": "markdown",
   "metadata": {},
   "source": [
    "## Verify the integrity of the data"
   ]
  },
  {
   "cell_type": "code",
   "execution_count": 5,
   "metadata": {
    "vscode": {
     "languageId": "r"
    }
   },
   "outputs": [
    {
     "data": {
      "text/html": [
       "<table class=\"dataframe\">\n",
       "<caption>A data.frame: 6 × 93</caption>\n",
       "<thead>\n",
       "\t<tr><th></th><th scope=col>patient_ID2</th><th scope=col>sample_ID</th><th scope=col>ID_DNA</th><th scope=col>N..histo</th><th scope=col>ID_Anapath</th><th scope=col>Idpatient_bloc</th><th scope=col>Idpatient</th><th scope=col>sample_ID_4_merge</th><th scope=col>path_svs</th><th scope=col>ID_scan</th><th scope=col>⋯</th><th scope=col>DECES.1.OUI</th><th scope=col>date_décès</th><th scope=col>OS..jours.</th><th scope=col>OS..360.jours.</th><th scope=col>OS..mois.</th><th scope=col>PFS..jours.</th><th scope=col>PFS.formule</th><th scope=col>PFS..mois.</th><th scope=col>Unnamed..27</th><th scope=col>infiltrat_lymphocytaire</th></tr>\n",
       "\t<tr><th></th><th scope=col>&lt;chr&gt;</th><th scope=col>&lt;chr&gt;</th><th scope=col>&lt;chr&gt;</th><th scope=col>&lt;chr&gt;</th><th scope=col>&lt;chr&gt;</th><th scope=col>&lt;chr&gt;</th><th scope=col>&lt;chr&gt;</th><th scope=col>&lt;chr&gt;</th><th scope=col>&lt;chr&gt;</th><th scope=col>&lt;chr&gt;</th><th scope=col>⋯</th><th scope=col>&lt;dbl&gt;</th><th scope=col>&lt;chr&gt;</th><th scope=col>&lt;dbl&gt;</th><th scope=col>&lt;dbl&gt;</th><th scope=col>&lt;dbl&gt;</th><th scope=col>&lt;dbl&gt;</th><th scope=col>&lt;dbl&gt;</th><th scope=col>&lt;dbl&gt;</th><th scope=col>&lt;lgl&gt;</th><th scope=col>&lt;chr&gt;</th></tr>\n",
       "</thead>\n",
       "<tbody>\n",
       "\t<tr><th scope=row>BPDAC_023_19_L1_S92</th><td>BPDAC_023</td><td>BPDAC_023_19_L1       </td><td></td><td>B_12AG01290_19_L1</td><td>12AG01290_19_L1</td><td>12AG01290_19</td><td>12AG01290</td><td>12AG01290-19</td><td>\\\\bob\\histology\\datasets\\PDAC_Bjn_100\\PDAC_MICRODISSEC_NAIF\\old_names\\12AG01290-19_MDNF01_HES.svs</td><td>12AG01290-19_MDNF01_HES.svs</td><td>⋯</td><td>0</td><td></td><td>356</td><td>351</td><td>11.50820</td><td>316</td><td>321</td><td>10.36066</td><td>NA</td><td>fort  </td></tr>\n",
       "\t<tr><th scope=row>BPDAC_023_26_L1_S5</th><td>BPDAC_023</td><td>BPDAC_023_26_L1_MDNF01</td><td></td><td>B_12AG01290_26_L1</td><td>12AG01290_26_L1</td><td>12AG01290_26</td><td>12AG01290</td><td>12AG01290-26</td><td>\\\\bob\\histology\\datasets\\PDAC_Bjn_100\\PDAC_MICRODISSEC_NAIF\\old_names\\12AG01290-26_MDNF01_HES.svs</td><td>12AG01290-26_MDNF01_HES.svs</td><td>⋯</td><td>0</td><td></td><td>356</td><td>351</td><td>11.50820</td><td>316</td><td>321</td><td>10.36066</td><td>NA</td><td>modere</td></tr>\n",
       "\t<tr><th scope=row>BPDAC_023_26_L2_S13</th><td>BPDAC_023</td><td>BPDAC_023_26_L2_MDNF01</td><td></td><td>B_12AG01290_26_L2</td><td>12AG01290_26_L2</td><td>12AG01290_26</td><td>12AG01290</td><td>12AG01290-26</td><td>\\\\bob\\histology\\datasets\\PDAC_Bjn_100\\PDAC_MICRODISSEC_NAIF\\old_names\\12AG01290-26_MDNF01_HES.svs</td><td>12AG01290-26_MDNF01_HES.svs</td><td>⋯</td><td>0</td><td></td><td>356</td><td>351</td><td>11.50820</td><td>316</td><td>321</td><td>10.36066</td><td>NA</td><td>faible</td></tr>\n",
       "\t<tr><th scope=row>X0823_012</th><td>BPDAC_023</td><td>BPDAC_023_26_L1_MDNF02</td><td></td><td>B_12AG01290_26_L1</td><td>12AG01290_26_L1</td><td>12AG01290_26</td><td>12AG01290</td><td>12AG01290-26</td><td>\\\\bob\\histology\\datasets\\PDAC_Bjn_100\\PDAC_MICRODISSEC_NAIF\\old_names\\12AG01290-26_MDNF02_HES.svs</td><td>12AG01290-26_MDNF02_HES.svs</td><td>⋯</td><td>0</td><td></td><td>356</td><td>351</td><td>11.50820</td><td>316</td><td>321</td><td>10.36066</td><td>NA</td><td>faible</td></tr>\n",
       "\t<tr><th scope=row>X0823_013</th><td>BPDAC_023</td><td>BPDAC_023_26_L2_MDNF02</td><td></td><td>B_12AG01290_26_L2</td><td>12AG01290_26_L2</td><td>12AG01290_26</td><td>12AG01290</td><td>12AG01290-26</td><td>\\\\bob\\histology\\datasets\\PDAC_Bjn_100\\PDAC_MICRODISSEC_NAIF\\old_names\\12AG01290-26_MDNF02_HES.svs</td><td>12AG01290-26_MDNF02_HES.svs</td><td>⋯</td><td>0</td><td></td><td>356</td><td>351</td><td>11.50820</td><td>316</td><td>321</td><td>10.36066</td><td>NA</td><td>modere</td></tr>\n",
       "\t<tr><th scope=row>BPDAC_029_26_L1_S70</th><td>BPDAC_029</td><td>BPDAC_029_26_L1_MDNF01</td><td></td><td>B_13AG00043_26_L1</td><td>13AG00043_26_L1</td><td>13AG00043_26</td><td>13AG00043</td><td>13AG00043-26</td><td>\\\\bob\\histology\\datasets\\PDAC_Bjn_100\\PDAC_MICRODISSEC_NAIF\\old_names\\13AG00043-26_MDNF01_HES.svs</td><td>13AG00043-26_MDNF01_HES.svs</td><td>⋯</td><td>1</td><td></td><td>390</td><td>385</td><td>12.62295</td><td>326</td><td>330</td><td>10.68852</td><td>NA</td><td>modere</td></tr>\n",
       "</tbody>\n",
       "</table>\n"
      ],
      "text/latex": [
       "A data.frame: 6 × 93\n",
       "\\begin{tabular}{r|lllllllllllllllllllll}\n",
       "  & patient\\_ID2 & sample\\_ID & ID\\_DNA & N..histo & ID\\_Anapath & Idpatient\\_bloc & Idpatient & sample\\_ID\\_4\\_merge & path\\_svs & ID\\_scan & ⋯ & DECES.1.OUI & date\\_décès & OS..jours. & OS..360.jours. & OS..mois. & PFS..jours. & PFS.formule & PFS..mois. & Unnamed..27 & infiltrat\\_lymphocytaire\\\\\n",
       "  & <chr> & <chr> & <chr> & <chr> & <chr> & <chr> & <chr> & <chr> & <chr> & <chr> & ⋯ & <dbl> & <chr> & <dbl> & <dbl> & <dbl> & <dbl> & <dbl> & <dbl> & <lgl> & <chr>\\\\\n",
       "\\hline\n",
       "\tBPDAC\\_023\\_19\\_L1\\_S92 & BPDAC\\_023 & BPDAC\\_023\\_19\\_L1        &  & B\\_12AG01290\\_19\\_L1 & 12AG01290\\_19\\_L1 & 12AG01290\\_19 & 12AG01290 & 12AG01290-19 & \\textbackslash{}\\textbackslash{}bob\\textbackslash{}histology\\textbackslash{}datasets\\textbackslash{}PDAC\\_Bjn\\_100\\textbackslash{}PDAC\\_MICRODISSEC\\_NAIF\\textbackslash{}old\\_names\\textbackslash{}12AG01290-19\\_MDNF01\\_HES.svs & 12AG01290-19\\_MDNF01\\_HES.svs & ⋯ & 0 &  & 356 & 351 & 11.50820 & 316 & 321 & 10.36066 & NA & fort  \\\\\n",
       "\tBPDAC\\_023\\_26\\_L1\\_S5 & BPDAC\\_023 & BPDAC\\_023\\_26\\_L1\\_MDNF01 &  & B\\_12AG01290\\_26\\_L1 & 12AG01290\\_26\\_L1 & 12AG01290\\_26 & 12AG01290 & 12AG01290-26 & \\textbackslash{}\\textbackslash{}bob\\textbackslash{}histology\\textbackslash{}datasets\\textbackslash{}PDAC\\_Bjn\\_100\\textbackslash{}PDAC\\_MICRODISSEC\\_NAIF\\textbackslash{}old\\_names\\textbackslash{}12AG01290-26\\_MDNF01\\_HES.svs & 12AG01290-26\\_MDNF01\\_HES.svs & ⋯ & 0 &  & 356 & 351 & 11.50820 & 316 & 321 & 10.36066 & NA & modere\\\\\n",
       "\tBPDAC\\_023\\_26\\_L2\\_S13 & BPDAC\\_023 & BPDAC\\_023\\_26\\_L2\\_MDNF01 &  & B\\_12AG01290\\_26\\_L2 & 12AG01290\\_26\\_L2 & 12AG01290\\_26 & 12AG01290 & 12AG01290-26 & \\textbackslash{}\\textbackslash{}bob\\textbackslash{}histology\\textbackslash{}datasets\\textbackslash{}PDAC\\_Bjn\\_100\\textbackslash{}PDAC\\_MICRODISSEC\\_NAIF\\textbackslash{}old\\_names\\textbackslash{}12AG01290-26\\_MDNF01\\_HES.svs & 12AG01290-26\\_MDNF01\\_HES.svs & ⋯ & 0 &  & 356 & 351 & 11.50820 & 316 & 321 & 10.36066 & NA & faible\\\\\n",
       "\tX0823\\_012 & BPDAC\\_023 & BPDAC\\_023\\_26\\_L1\\_MDNF02 &  & B\\_12AG01290\\_26\\_L1 & 12AG01290\\_26\\_L1 & 12AG01290\\_26 & 12AG01290 & 12AG01290-26 & \\textbackslash{}\\textbackslash{}bob\\textbackslash{}histology\\textbackslash{}datasets\\textbackslash{}PDAC\\_Bjn\\_100\\textbackslash{}PDAC\\_MICRODISSEC\\_NAIF\\textbackslash{}old\\_names\\textbackslash{}12AG01290-26\\_MDNF02\\_HES.svs & 12AG01290-26\\_MDNF02\\_HES.svs & ⋯ & 0 &  & 356 & 351 & 11.50820 & 316 & 321 & 10.36066 & NA & faible\\\\\n",
       "\tX0823\\_013 & BPDAC\\_023 & BPDAC\\_023\\_26\\_L2\\_MDNF02 &  & B\\_12AG01290\\_26\\_L2 & 12AG01290\\_26\\_L2 & 12AG01290\\_26 & 12AG01290 & 12AG01290-26 & \\textbackslash{}\\textbackslash{}bob\\textbackslash{}histology\\textbackslash{}datasets\\textbackslash{}PDAC\\_Bjn\\_100\\textbackslash{}PDAC\\_MICRODISSEC\\_NAIF\\textbackslash{}old\\_names\\textbackslash{}12AG01290-26\\_MDNF02\\_HES.svs & 12AG01290-26\\_MDNF02\\_HES.svs & ⋯ & 0 &  & 356 & 351 & 11.50820 & 316 & 321 & 10.36066 & NA & modere\\\\\n",
       "\tBPDAC\\_029\\_26\\_L1\\_S70 & BPDAC\\_029 & BPDAC\\_029\\_26\\_L1\\_MDNF01 &  & B\\_13AG00043\\_26\\_L1 & 13AG00043\\_26\\_L1 & 13AG00043\\_26 & 13AG00043 & 13AG00043-26 & \\textbackslash{}\\textbackslash{}bob\\textbackslash{}histology\\textbackslash{}datasets\\textbackslash{}PDAC\\_Bjn\\_100\\textbackslash{}PDAC\\_MICRODISSEC\\_NAIF\\textbackslash{}old\\_names\\textbackslash{}13AG00043-26\\_MDNF01\\_HES.svs & 13AG00043-26\\_MDNF01\\_HES.svs & ⋯ & 1 &  & 390 & 385 & 12.62295 & 326 & 330 & 10.68852 & NA & modere\\\\\n",
       "\\end{tabular}\n"
      ],
      "text/markdown": [
       "\n",
       "A data.frame: 6 × 93\n",
       "\n",
       "| <!--/--> | patient_ID2 &lt;chr&gt; | sample_ID &lt;chr&gt; | ID_DNA &lt;chr&gt; | N..histo &lt;chr&gt; | ID_Anapath &lt;chr&gt; | Idpatient_bloc &lt;chr&gt; | Idpatient &lt;chr&gt; | sample_ID_4_merge &lt;chr&gt; | path_svs &lt;chr&gt; | ID_scan &lt;chr&gt; | ⋯ ⋯ | DECES.1.OUI &lt;dbl&gt; | date_décès &lt;chr&gt; | OS..jours. &lt;dbl&gt; | OS..360.jours. &lt;dbl&gt; | OS..mois. &lt;dbl&gt; | PFS..jours. &lt;dbl&gt; | PFS.formule &lt;dbl&gt; | PFS..mois. &lt;dbl&gt; | Unnamed..27 &lt;lgl&gt; | infiltrat_lymphocytaire &lt;chr&gt; |\n",
       "|---|---|---|---|---|---|---|---|---|---|---|---|---|---|---|---|---|---|---|---|---|---|\n",
       "| BPDAC_023_19_L1_S92 | BPDAC_023 | BPDAC_023_19_L1        | <!----> | B_12AG01290_19_L1 | 12AG01290_19_L1 | 12AG01290_19 | 12AG01290 | 12AG01290-19 | \\\\bob\\histology\\datasets\\PDAC_Bjn_100\\PDAC_MICRODISSEC_NAIF\\old_names\\12AG01290-19_MDNF01_HES.svs | 12AG01290-19_MDNF01_HES.svs | ⋯ | 0 | <!----> | 356 | 351 | 11.50820 | 316 | 321 | 10.36066 | NA | fort   |\n",
       "| BPDAC_023_26_L1_S5 | BPDAC_023 | BPDAC_023_26_L1_MDNF01 | <!----> | B_12AG01290_26_L1 | 12AG01290_26_L1 | 12AG01290_26 | 12AG01290 | 12AG01290-26 | \\\\bob\\histology\\datasets\\PDAC_Bjn_100\\PDAC_MICRODISSEC_NAIF\\old_names\\12AG01290-26_MDNF01_HES.svs | 12AG01290-26_MDNF01_HES.svs | ⋯ | 0 | <!----> | 356 | 351 | 11.50820 | 316 | 321 | 10.36066 | NA | modere |\n",
       "| BPDAC_023_26_L2_S13 | BPDAC_023 | BPDAC_023_26_L2_MDNF01 | <!----> | B_12AG01290_26_L2 | 12AG01290_26_L2 | 12AG01290_26 | 12AG01290 | 12AG01290-26 | \\\\bob\\histology\\datasets\\PDAC_Bjn_100\\PDAC_MICRODISSEC_NAIF\\old_names\\12AG01290-26_MDNF01_HES.svs | 12AG01290-26_MDNF01_HES.svs | ⋯ | 0 | <!----> | 356 | 351 | 11.50820 | 316 | 321 | 10.36066 | NA | faible |\n",
       "| X0823_012 | BPDAC_023 | BPDAC_023_26_L1_MDNF02 | <!----> | B_12AG01290_26_L1 | 12AG01290_26_L1 | 12AG01290_26 | 12AG01290 | 12AG01290-26 | \\\\bob\\histology\\datasets\\PDAC_Bjn_100\\PDAC_MICRODISSEC_NAIF\\old_names\\12AG01290-26_MDNF02_HES.svs | 12AG01290-26_MDNF02_HES.svs | ⋯ | 0 | <!----> | 356 | 351 | 11.50820 | 316 | 321 | 10.36066 | NA | faible |\n",
       "| X0823_013 | BPDAC_023 | BPDAC_023_26_L2_MDNF02 | <!----> | B_12AG01290_26_L2 | 12AG01290_26_L2 | 12AG01290_26 | 12AG01290 | 12AG01290-26 | \\\\bob\\histology\\datasets\\PDAC_Bjn_100\\PDAC_MICRODISSEC_NAIF\\old_names\\12AG01290-26_MDNF02_HES.svs | 12AG01290-26_MDNF02_HES.svs | ⋯ | 0 | <!----> | 356 | 351 | 11.50820 | 316 | 321 | 10.36066 | NA | modere |\n",
       "| BPDAC_029_26_L1_S70 | BPDAC_029 | BPDAC_029_26_L1_MDNF01 | <!----> | B_13AG00043_26_L1 | 13AG00043_26_L1 | 13AG00043_26 | 13AG00043 | 13AG00043-26 | \\\\bob\\histology\\datasets\\PDAC_Bjn_100\\PDAC_MICRODISSEC_NAIF\\old_names\\13AG00043-26_MDNF01_HES.svs | 13AG00043-26_MDNF01_HES.svs | ⋯ | 1 | <!----> | 390 | 385 | 12.62295 | 326 | 330 | 10.68852 | NA | modere |\n",
       "\n"
      ],
      "text/plain": [
       "                    patient_ID2 sample_ID              ID_DNA N..histo         \n",
       "BPDAC_023_19_L1_S92 BPDAC_023   BPDAC_023_19_L1               B_12AG01290_19_L1\n",
       "BPDAC_023_26_L1_S5  BPDAC_023   BPDAC_023_26_L1_MDNF01        B_12AG01290_26_L1\n",
       "BPDAC_023_26_L2_S13 BPDAC_023   BPDAC_023_26_L2_MDNF01        B_12AG01290_26_L2\n",
       "X0823_012           BPDAC_023   BPDAC_023_26_L1_MDNF02        B_12AG01290_26_L1\n",
       "X0823_013           BPDAC_023   BPDAC_023_26_L2_MDNF02        B_12AG01290_26_L2\n",
       "BPDAC_029_26_L1_S70 BPDAC_029   BPDAC_029_26_L1_MDNF01        B_13AG00043_26_L1\n",
       "                    ID_Anapath      Idpatient_bloc Idpatient sample_ID_4_merge\n",
       "BPDAC_023_19_L1_S92 12AG01290_19_L1 12AG01290_19   12AG01290 12AG01290-19     \n",
       "BPDAC_023_26_L1_S5  12AG01290_26_L1 12AG01290_26   12AG01290 12AG01290-26     \n",
       "BPDAC_023_26_L2_S13 12AG01290_26_L2 12AG01290_26   12AG01290 12AG01290-26     \n",
       "X0823_012           12AG01290_26_L1 12AG01290_26   12AG01290 12AG01290-26     \n",
       "X0823_013           12AG01290_26_L2 12AG01290_26   12AG01290 12AG01290-26     \n",
       "BPDAC_029_26_L1_S70 13AG00043_26_L1 13AG00043_26   13AG00043 13AG00043-26     \n",
       "                    path_svs                                                                                                 \n",
       "BPDAC_023_19_L1_S92 \\\\\\\\bob\\\\histology\\\\datasets\\\\PDAC_Bjn_100\\\\PDAC_MICRODISSEC_NAIF\\\\old_names\\\\12AG01290-19_MDNF01_HES.svs\n",
       "BPDAC_023_26_L1_S5  \\\\\\\\bob\\\\histology\\\\datasets\\\\PDAC_Bjn_100\\\\PDAC_MICRODISSEC_NAIF\\\\old_names\\\\12AG01290-26_MDNF01_HES.svs\n",
       "BPDAC_023_26_L2_S13 \\\\\\\\bob\\\\histology\\\\datasets\\\\PDAC_Bjn_100\\\\PDAC_MICRODISSEC_NAIF\\\\old_names\\\\12AG01290-26_MDNF01_HES.svs\n",
       "X0823_012           \\\\\\\\bob\\\\histology\\\\datasets\\\\PDAC_Bjn_100\\\\PDAC_MICRODISSEC_NAIF\\\\old_names\\\\12AG01290-26_MDNF02_HES.svs\n",
       "X0823_013           \\\\\\\\bob\\\\histology\\\\datasets\\\\PDAC_Bjn_100\\\\PDAC_MICRODISSEC_NAIF\\\\old_names\\\\12AG01290-26_MDNF02_HES.svs\n",
       "BPDAC_029_26_L1_S70 \\\\\\\\bob\\\\histology\\\\datasets\\\\PDAC_Bjn_100\\\\PDAC_MICRODISSEC_NAIF\\\\old_names\\\\13AG00043-26_MDNF01_HES.svs\n",
       "                    ID_scan                     ⋯ DECES.1.OUI date_décès\n",
       "BPDAC_023_19_L1_S92 12AG01290-19_MDNF01_HES.svs ⋯ 0                     \n",
       "BPDAC_023_26_L1_S5  12AG01290-26_MDNF01_HES.svs ⋯ 0                     \n",
       "BPDAC_023_26_L2_S13 12AG01290-26_MDNF01_HES.svs ⋯ 0                     \n",
       "X0823_012           12AG01290-26_MDNF02_HES.svs ⋯ 0                     \n",
       "X0823_013           12AG01290-26_MDNF02_HES.svs ⋯ 0                     \n",
       "BPDAC_029_26_L1_S70 13AG00043-26_MDNF01_HES.svs ⋯ 1                     \n",
       "                    OS..jours. OS..360.jours. OS..mois. PFS..jours. PFS.formule\n",
       "BPDAC_023_19_L1_S92 356        351            11.50820  316         321        \n",
       "BPDAC_023_26_L1_S5  356        351            11.50820  316         321        \n",
       "BPDAC_023_26_L2_S13 356        351            11.50820  316         321        \n",
       "X0823_012           356        351            11.50820  316         321        \n",
       "X0823_013           356        351            11.50820  316         321        \n",
       "BPDAC_029_26_L1_S70 390        385            12.62295  326         330        \n",
       "                    PFS..mois. Unnamed..27 infiltrat_lymphocytaire\n",
       "BPDAC_023_19_L1_S92 10.36066   NA          fort                   \n",
       "BPDAC_023_26_L1_S5  10.36066   NA          modere                 \n",
       "BPDAC_023_26_L2_S13 10.36066   NA          faible                 \n",
       "X0823_012           10.36066   NA          faible                 \n",
       "X0823_013           10.36066   NA          modere                 \n",
       "BPDAC_029_26_L1_S70 10.68852   NA          modere                 "
      ]
     },
     "metadata": {},
     "output_type": "display_data"
    }
   ],
   "source": [
    "head(coldata)"
   ]
  },
  {
   "cell_type": "code",
   "execution_count": 6,
   "metadata": {
    "vscode": {
     "languageId": "r"
    }
   },
   "outputs": [
    {
     "data": {
      "text/html": [
       "TRUE"
      ],
      "text/latex": [
       "TRUE"
      ],
      "text/markdown": [
       "TRUE"
      ],
      "text/plain": [
       "[1] TRUE"
      ]
     },
     "metadata": {},
     "output_type": "display_data"
    }
   ],
   "source": [
    "# Check again if the names are the same regardless of the order\n",
    "all(rownames(coldata) %in% colnames(cts))"
   ]
  },
  {
   "cell_type": "code",
   "execution_count": 7,
   "metadata": {
    "vscode": {
     "languageId": "r"
    }
   },
   "outputs": [
    {
     "data": {
      "text/html": [
       "TRUE"
      ],
      "text/latex": [
       "TRUE"
      ],
      "text/markdown": [
       "TRUE"
      ],
      "text/plain": [
       "[1] TRUE"
      ]
     },
     "metadata": {},
     "output_type": "display_data"
    }
   ],
   "source": [
    "# Check again if order is the same\n",
    "all(rownames(coldata) == colnames(cts))"
   ]
  },
  {
   "cell_type": "markdown",
   "metadata": {},
   "source": [
    "# Save the normalized counts"
   ]
  },
  {
   "cell_type": "code",
   "execution_count": 8,
   "metadata": {
    "vscode": {
     "languageId": "r"
    }
   },
   "outputs": [],
   "source": [
    "# Save the normalized counts\n",
    "cts_normalized_uqnorm |>\n",
    "  write.csv(file = \"data/PDAC_MICRODISSEC_NAIF/rna_seq_selected_uqnorm.csv\")"
   ]
  },
  {
   "cell_type": "markdown",
   "metadata": {
    "vscode": {
     "languageId": "r"
    }
   },
   "source": [
    "# Construct a DESeqDataSet\n",
    "Now both the coldata and `cts` have the same row names in the same order.\n",
    "With the count matrix, `cts`, and the sample information, `coldata`, we can construct a `DESeqDataSet`:"
   ]
  },
  {
   "cell_type": "code",
   "execution_count": 9,
   "metadata": {
    "vscode": {
     "languageId": "r"
    }
   },
   "outputs": [
    {
     "data": {
      "text/plain": [
       "class: DESeqDataSet \n",
       "dim: 61806 29 \n",
       "metadata(1): version\n",
       "assays(1): counts\n",
       "rownames(61806): ENSG00000160072 ENSG00000234396 ... ENSG00000210195\n",
       "  ENSG00000210196\n",
       "rowData names(0):\n",
       "colnames(29): BPDAC_023_19_L1_S92 BPDAC_023_26_L1_S5 ...\n",
       "  BPDAC_086_38_L1_S240_L004 BPDAC_086_38_L2_S247_L004\n",
       "colData names(94): patient_ID2 sample_ID ... infiltrat_lymphocytaire\n",
       "  condition"
      ]
     },
     "metadata": {},
     "output_type": "display_data"
    }
   ],
   "source": [
    "# Make a factor of random positive and negative samples\n",
    "coldata$condition <- factor(sample(c(\"Positive\", \"Negative\"), size = nrow(coldata), replace = TRUE))\n",
    "\n",
    "dds <- DESeqDataSetFromMatrix(countData = cts,\n",
    "                              colData = coldata,\n",
    "                              design = ~ condition)\n",
    "dds"
   ]
  },
  {
   "cell_type": "markdown",
   "metadata": {},
   "source": [
    "## Extracting transformed values\n",
    "These transformation functions return an object of class DESeqTransform which is a subclass of RangedSummarizedExperiment.\n",
    "For ~20 samples, running on a newly created DESeqDataSet. The assay function is used to extract the matrix of normalized values."
   ]
  },
  {
   "cell_type": "code",
   "execution_count": 10,
   "metadata": {
    "vscode": {
     "languageId": "r"
    }
   },
   "outputs": [
    {
     "data": {
      "text/plain": [
       "class: DESeqTransform \n",
       "dim: 61806 29 \n",
       "metadata(1): version\n",
       "assays(1): ''\n",
       "rownames(61806): ENSG00000160072 ENSG00000234396 ... ENSG00000210195\n",
       "  ENSG00000210196\n",
       "rowData names(4): baseMean baseVar allZero dispFit\n",
       "colnames(29): BPDAC_023_19_L1_S92 BPDAC_023_26_L1_S5 ...\n",
       "  BPDAC_086_38_L1_S240_L004 BPDAC_086_38_L2_S247_L004\n",
       "colData names(95): patient_ID2 sample_ID ... condition sizeFactor"
      ]
     },
     "metadata": {},
     "output_type": "display_data"
    }
   ],
   "source": [
    "vsd <- dds |> vst()\n",
    "vsd"
   ]
  },
  {
   "cell_type": "code",
   "execution_count": 11,
   "metadata": {
    "vscode": {
     "languageId": "r"
    }
   },
   "outputs": [
    {
     "data": {
      "text/html": [
       "<table class=\"dataframe\">\n",
       "<caption>A matrix: 6 × 29 of type dbl</caption>\n",
       "<thead>\n",
       "\t<tr><th></th><th scope=col>BPDAC_023_19_L1_S92</th><th scope=col>BPDAC_023_26_L1_S5</th><th scope=col>BPDAC_023_26_L2_S13</th><th scope=col>X0823_012</th><th scope=col>X0823_013</th><th scope=col>BPDAC_029_26_L1_S70</th><th scope=col>BPDAC_029_26_L2_S78</th><th scope=col>X0923_009</th><th scope=col>X0923_010</th><th scope=col>BPDAC_029_36_L1_S7</th><th scope=col>⋯</th><th scope=col>X0623_015</th><th scope=col>BPDAC_038_20_L1_S48</th><th scope=col>BPDAC_042_11_L1_S100</th><th scope=col>BPDAC_042_11_L2_S101</th><th scope=col>BPDAC_042_11_L3_S102</th><th scope=col>BPDAC_086_31_L1_S194_L003</th><th scope=col>BPDAC_086_31_L2_S202_L003</th><th scope=col>BPDAC_086_37_L1_S232_L004</th><th scope=col>BPDAC_086_38_L1_S240_L004</th><th scope=col>BPDAC_086_38_L2_S247_L004</th></tr>\n",
       "</thead>\n",
       "<tbody>\n",
       "\t<tr><th scope=row>ENSG00000160072</th><td> 7.823556</td><td> 8.057938</td><td>3.875114</td><td> 8.052320</td><td> 7.554533</td><td>8.584848</td><td>7.095814</td><td>6.905523</td><td>7.093728</td><td>6.577804</td><td>⋯</td><td>5.495725</td><td>7.654655</td><td>7.744428</td><td>8.563158</td><td>7.116810</td><td>7.869435</td><td>7.814429</td><td>6.845077</td><td>7.655784</td><td>7.166568</td></tr>\n",
       "\t<tr><th scope=row>ENSG00000234396</th><td> 3.875114</td><td> 3.875114</td><td>3.875114</td><td> 4.547513</td><td> 3.875114</td><td>3.875114</td><td>3.875114</td><td>3.875114</td><td>5.515877</td><td>3.875114</td><td>⋯</td><td>3.875114</td><td>4.300203</td><td>5.029064</td><td>4.468461</td><td>3.875114</td><td>3.875114</td><td>3.875114</td><td>3.875114</td><td>3.875114</td><td>4.278114</td></tr>\n",
       "\t<tr><th scope=row>ENSG00000225972</th><td>10.532665</td><td>10.713805</td><td>3.875114</td><td>10.690521</td><td>11.232514</td><td>8.117181</td><td>5.732987</td><td>6.708633</td><td>6.549047</td><td>5.390825</td><td>⋯</td><td>6.621571</td><td>5.049138</td><td>5.181121</td><td>5.245442</td><td>4.848546</td><td>4.864546</td><td>5.079943</td><td>5.010895</td><td>5.186815</td><td>4.846989</td></tr>\n",
       "\t<tr><th scope=row>ENSG00000224315</th><td> 5.184987</td><td> 3.875114</td><td>3.875114</td><td> 5.329868</td><td> 5.493575</td><td>3.875114</td><td>3.875114</td><td>6.892345</td><td>3.875114</td><td>3.875114</td><td>⋯</td><td>5.358178</td><td>4.474145</td><td>4.402109</td><td>4.219286</td><td>6.592306</td><td>5.375091</td><td>5.423461</td><td>4.731096</td><td>5.228806</td><td>3.875114</td></tr>\n",
       "\t<tr><th scope=row>ENSG00000198744</th><td> 7.353787</td><td> 6.593791</td><td>3.875114</td><td> 7.918914</td><td> 7.623993</td><td>7.064275</td><td>6.366555</td><td>7.644273</td><td>7.884681</td><td>6.795027</td><td>⋯</td><td>7.744610</td><td>5.540183</td><td>6.267450</td><td>6.695184</td><td>6.613380</td><td>6.054732</td><td>5.570897</td><td>5.483687</td><td>5.824220</td><td>5.523058</td></tr>\n",
       "\t<tr><th scope=row>ENSG00000279928</th><td> 4.122260</td><td> 3.875114</td><td>3.875114</td><td> 3.875114</td><td> 3.875114</td><td>3.875114</td><td>3.875114</td><td>3.875114</td><td>3.875114</td><td>3.875114</td><td>⋯</td><td>4.287756</td><td>4.300203</td><td>4.778164</td><td>4.118768</td><td>3.875114</td><td>4.453738</td><td>4.341808</td><td>4.262397</td><td>4.081931</td><td>4.278114</td></tr>\n",
       "</tbody>\n",
       "</table>\n"
      ],
      "text/latex": [
       "A matrix: 6 × 29 of type dbl\n",
       "\\begin{tabular}{r|lllllllllllllllllllll}\n",
       "  & BPDAC\\_023\\_19\\_L1\\_S92 & BPDAC\\_023\\_26\\_L1\\_S5 & BPDAC\\_023\\_26\\_L2\\_S13 & X0823\\_012 & X0823\\_013 & BPDAC\\_029\\_26\\_L1\\_S70 & BPDAC\\_029\\_26\\_L2\\_S78 & X0923\\_009 & X0923\\_010 & BPDAC\\_029\\_36\\_L1\\_S7 & ⋯ & X0623\\_015 & BPDAC\\_038\\_20\\_L1\\_S48 & BPDAC\\_042\\_11\\_L1\\_S100 & BPDAC\\_042\\_11\\_L2\\_S101 & BPDAC\\_042\\_11\\_L3\\_S102 & BPDAC\\_086\\_31\\_L1\\_S194\\_L003 & BPDAC\\_086\\_31\\_L2\\_S202\\_L003 & BPDAC\\_086\\_37\\_L1\\_S232\\_L004 & BPDAC\\_086\\_38\\_L1\\_S240\\_L004 & BPDAC\\_086\\_38\\_L2\\_S247\\_L004\\\\\n",
       "\\hline\n",
       "\tENSG00000160072 &  7.823556 &  8.057938 & 3.875114 &  8.052320 &  7.554533 & 8.584848 & 7.095814 & 6.905523 & 7.093728 & 6.577804 & ⋯ & 5.495725 & 7.654655 & 7.744428 & 8.563158 & 7.116810 & 7.869435 & 7.814429 & 6.845077 & 7.655784 & 7.166568\\\\\n",
       "\tENSG00000234396 &  3.875114 &  3.875114 & 3.875114 &  4.547513 &  3.875114 & 3.875114 & 3.875114 & 3.875114 & 5.515877 & 3.875114 & ⋯ & 3.875114 & 4.300203 & 5.029064 & 4.468461 & 3.875114 & 3.875114 & 3.875114 & 3.875114 & 3.875114 & 4.278114\\\\\n",
       "\tENSG00000225972 & 10.532665 & 10.713805 & 3.875114 & 10.690521 & 11.232514 & 8.117181 & 5.732987 & 6.708633 & 6.549047 & 5.390825 & ⋯ & 6.621571 & 5.049138 & 5.181121 & 5.245442 & 4.848546 & 4.864546 & 5.079943 & 5.010895 & 5.186815 & 4.846989\\\\\n",
       "\tENSG00000224315 &  5.184987 &  3.875114 & 3.875114 &  5.329868 &  5.493575 & 3.875114 & 3.875114 & 6.892345 & 3.875114 & 3.875114 & ⋯ & 5.358178 & 4.474145 & 4.402109 & 4.219286 & 6.592306 & 5.375091 & 5.423461 & 4.731096 & 5.228806 & 3.875114\\\\\n",
       "\tENSG00000198744 &  7.353787 &  6.593791 & 3.875114 &  7.918914 &  7.623993 & 7.064275 & 6.366555 & 7.644273 & 7.884681 & 6.795027 & ⋯ & 7.744610 & 5.540183 & 6.267450 & 6.695184 & 6.613380 & 6.054732 & 5.570897 & 5.483687 & 5.824220 & 5.523058\\\\\n",
       "\tENSG00000279928 &  4.122260 &  3.875114 & 3.875114 &  3.875114 &  3.875114 & 3.875114 & 3.875114 & 3.875114 & 3.875114 & 3.875114 & ⋯ & 4.287756 & 4.300203 & 4.778164 & 4.118768 & 3.875114 & 4.453738 & 4.341808 & 4.262397 & 4.081931 & 4.278114\\\\\n",
       "\\end{tabular}\n"
      ],
      "text/markdown": [
       "\n",
       "A matrix: 6 × 29 of type dbl\n",
       "\n",
       "| <!--/--> | BPDAC_023_19_L1_S92 | BPDAC_023_26_L1_S5 | BPDAC_023_26_L2_S13 | X0823_012 | X0823_013 | BPDAC_029_26_L1_S70 | BPDAC_029_26_L2_S78 | X0923_009 | X0923_010 | BPDAC_029_36_L1_S7 | ⋯ | X0623_015 | BPDAC_038_20_L1_S48 | BPDAC_042_11_L1_S100 | BPDAC_042_11_L2_S101 | BPDAC_042_11_L3_S102 | BPDAC_086_31_L1_S194_L003 | BPDAC_086_31_L2_S202_L003 | BPDAC_086_37_L1_S232_L004 | BPDAC_086_38_L1_S240_L004 | BPDAC_086_38_L2_S247_L004 |\n",
       "|---|---|---|---|---|---|---|---|---|---|---|---|---|---|---|---|---|---|---|---|---|---|\n",
       "| ENSG00000160072 |  7.823556 |  8.057938 | 3.875114 |  8.052320 |  7.554533 | 8.584848 | 7.095814 | 6.905523 | 7.093728 | 6.577804 | ⋯ | 5.495725 | 7.654655 | 7.744428 | 8.563158 | 7.116810 | 7.869435 | 7.814429 | 6.845077 | 7.655784 | 7.166568 |\n",
       "| ENSG00000234396 |  3.875114 |  3.875114 | 3.875114 |  4.547513 |  3.875114 | 3.875114 | 3.875114 | 3.875114 | 5.515877 | 3.875114 | ⋯ | 3.875114 | 4.300203 | 5.029064 | 4.468461 | 3.875114 | 3.875114 | 3.875114 | 3.875114 | 3.875114 | 4.278114 |\n",
       "| ENSG00000225972 | 10.532665 | 10.713805 | 3.875114 | 10.690521 | 11.232514 | 8.117181 | 5.732987 | 6.708633 | 6.549047 | 5.390825 | ⋯ | 6.621571 | 5.049138 | 5.181121 | 5.245442 | 4.848546 | 4.864546 | 5.079943 | 5.010895 | 5.186815 | 4.846989 |\n",
       "| ENSG00000224315 |  5.184987 |  3.875114 | 3.875114 |  5.329868 |  5.493575 | 3.875114 | 3.875114 | 6.892345 | 3.875114 | 3.875114 | ⋯ | 5.358178 | 4.474145 | 4.402109 | 4.219286 | 6.592306 | 5.375091 | 5.423461 | 4.731096 | 5.228806 | 3.875114 |\n",
       "| ENSG00000198744 |  7.353787 |  6.593791 | 3.875114 |  7.918914 |  7.623993 | 7.064275 | 6.366555 | 7.644273 | 7.884681 | 6.795027 | ⋯ | 7.744610 | 5.540183 | 6.267450 | 6.695184 | 6.613380 | 6.054732 | 5.570897 | 5.483687 | 5.824220 | 5.523058 |\n",
       "| ENSG00000279928 |  4.122260 |  3.875114 | 3.875114 |  3.875114 |  3.875114 | 3.875114 | 3.875114 | 3.875114 | 3.875114 | 3.875114 | ⋯ | 4.287756 | 4.300203 | 4.778164 | 4.118768 | 3.875114 | 4.453738 | 4.341808 | 4.262397 | 4.081931 | 4.278114 |\n",
       "\n"
      ],
      "text/plain": [
       "                BPDAC_023_19_L1_S92 BPDAC_023_26_L1_S5 BPDAC_023_26_L2_S13\n",
       "ENSG00000160072  7.823556            8.057938          3.875114           \n",
       "ENSG00000234396  3.875114            3.875114          3.875114           \n",
       "ENSG00000225972 10.532665           10.713805          3.875114           \n",
       "ENSG00000224315  5.184987            3.875114          3.875114           \n",
       "ENSG00000198744  7.353787            6.593791          3.875114           \n",
       "ENSG00000279928  4.122260            3.875114          3.875114           \n",
       "                X0823_012 X0823_013 BPDAC_029_26_L1_S70 BPDAC_029_26_L2_S78\n",
       "ENSG00000160072  8.052320  7.554533 8.584848            7.095814           \n",
       "ENSG00000234396  4.547513  3.875114 3.875114            3.875114           \n",
       "ENSG00000225972 10.690521 11.232514 8.117181            5.732987           \n",
       "ENSG00000224315  5.329868  5.493575 3.875114            3.875114           \n",
       "ENSG00000198744  7.918914  7.623993 7.064275            6.366555           \n",
       "ENSG00000279928  3.875114  3.875114 3.875114            3.875114           \n",
       "                X0923_009 X0923_010 BPDAC_029_36_L1_S7 ⋯ X0623_015\n",
       "ENSG00000160072 6.905523  7.093728  6.577804           ⋯ 5.495725 \n",
       "ENSG00000234396 3.875114  5.515877  3.875114           ⋯ 3.875114 \n",
       "ENSG00000225972 6.708633  6.549047  5.390825           ⋯ 6.621571 \n",
       "ENSG00000224315 6.892345  3.875114  3.875114           ⋯ 5.358178 \n",
       "ENSG00000198744 7.644273  7.884681  6.795027           ⋯ 7.744610 \n",
       "ENSG00000279928 3.875114  3.875114  3.875114           ⋯ 4.287756 \n",
       "                BPDAC_038_20_L1_S48 BPDAC_042_11_L1_S100 BPDAC_042_11_L2_S101\n",
       "ENSG00000160072 7.654655            7.744428             8.563158            \n",
       "ENSG00000234396 4.300203            5.029064             4.468461            \n",
       "ENSG00000225972 5.049138            5.181121             5.245442            \n",
       "ENSG00000224315 4.474145            4.402109             4.219286            \n",
       "ENSG00000198744 5.540183            6.267450             6.695184            \n",
       "ENSG00000279928 4.300203            4.778164             4.118768            \n",
       "                BPDAC_042_11_L3_S102 BPDAC_086_31_L1_S194_L003\n",
       "ENSG00000160072 7.116810             7.869435                 \n",
       "ENSG00000234396 3.875114             3.875114                 \n",
       "ENSG00000225972 4.848546             4.864546                 \n",
       "ENSG00000224315 6.592306             5.375091                 \n",
       "ENSG00000198744 6.613380             6.054732                 \n",
       "ENSG00000279928 3.875114             4.453738                 \n",
       "                BPDAC_086_31_L2_S202_L003 BPDAC_086_37_L1_S232_L004\n",
       "ENSG00000160072 7.814429                  6.845077                 \n",
       "ENSG00000234396 3.875114                  3.875114                 \n",
       "ENSG00000225972 5.079943                  5.010895                 \n",
       "ENSG00000224315 5.423461                  4.731096                 \n",
       "ENSG00000198744 5.570897                  5.483687                 \n",
       "ENSG00000279928 4.341808                  4.262397                 \n",
       "                BPDAC_086_38_L1_S240_L004 BPDAC_086_38_L2_S247_L004\n",
       "ENSG00000160072 7.655784                  7.166568                 \n",
       "ENSG00000234396 3.875114                  4.278114                 \n",
       "ENSG00000225972 5.186815                  4.846989                 \n",
       "ENSG00000224315 5.228806                  3.875114                 \n",
       "ENSG00000198744 5.824220                  5.523058                 \n",
       "ENSG00000279928 4.081931                  4.278114                 "
      ]
     },
     "metadata": {},
     "output_type": "display_data"
    }
   ],
   "source": [
    "vsd |> assay() |> head()"
   ]
  },
  {
   "cell_type": "code",
   "execution_count": 12,
   "metadata": {
    "vscode": {
     "languageId": "r"
    }
   },
   "outputs": [],
   "source": [
    "# Save the variance stabilized data\n",
    "vsd |>\n",
    "  assay() |>\n",
    "  as.data.frame() |>\n",
    "  write.csv(file = \"data/PDAC_MICRODISSEC_NAIF/rna_seq_selected_vst.csv\")"
   ]
  }
 ],
 "metadata": {
  "kernelspec": {
   "display_name": "R",
   "language": "R",
   "name": "ir"
  },
  "language_info": {
   "codemirror_mode": "r",
   "file_extension": ".r",
   "mimetype": "text/x-r-source",
   "name": "R",
   "pygments_lexer": "r",
   "version": "4.4.1"
  }
 },
 "nbformat": 4,
 "nbformat_minor": 2
}
