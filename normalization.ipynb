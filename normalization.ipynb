{
 "cells": [
  {
   "cell_type": "markdown",
   "metadata": {
    "vscode": {
     "languageId": "r"
    }
   },
   "source": [
    "DEseq2 Tutorial Jason Tsai 11th November 2021"
   ]
  },
  {
   "cell_type": "markdown",
   "metadata": {
    "vscode": {
     "languageId": "r"
    }
   },
   "source": [
    "# Initiate libraries"
   ]
  },
  {
   "cell_type": "code",
   "execution_count": 1,
   "metadata": {
    "vscode": {
     "languageId": "r"
    }
   },
   "outputs": [
    {
     "name": "stderr",
     "output_type": "stream",
     "text": [
      "── \u001b[1mAttaching core tidyverse packages\u001b[22m ──────────────────────── tidyverse 2.0.0 ──\n",
      "\u001b[32m✔\u001b[39m \u001b[34mdplyr    \u001b[39m 1.1.4     \u001b[32m✔\u001b[39m \u001b[34mreadr    \u001b[39m 2.1.5\n",
      "\u001b[32m✔\u001b[39m \u001b[34mforcats  \u001b[39m 1.0.0     \u001b[32m✔\u001b[39m \u001b[34mstringr  \u001b[39m 1.5.1\n",
      "\u001b[32m✔\u001b[39m \u001b[34mggplot2  \u001b[39m 3.5.1     \u001b[32m✔\u001b[39m \u001b[34mtibble   \u001b[39m 3.2.1\n",
      "\u001b[32m✔\u001b[39m \u001b[34mlubridate\u001b[39m 1.9.3     \u001b[32m✔\u001b[39m \u001b[34mtidyr    \u001b[39m 1.3.1\n",
      "\u001b[32m✔\u001b[39m \u001b[34mpurrr    \u001b[39m 1.0.2     \n",
      "── \u001b[1mConflicts\u001b[22m ────────────────────────────────────────── tidyverse_conflicts() ──\n",
      "\u001b[31m✖\u001b[39m \u001b[34mdplyr\u001b[39m::\u001b[32mfilter()\u001b[39m masks \u001b[34mstats\u001b[39m::filter()\n",
      "\u001b[31m✖\u001b[39m \u001b[34mdplyr\u001b[39m::\u001b[32mlag()\u001b[39m    masks \u001b[34mstats\u001b[39m::lag()\n",
      "\u001b[36mℹ\u001b[39m Use the conflicted package (\u001b[3m\u001b[34m<http://conflicted.r-lib.org/>\u001b[39m\u001b[23m) to force all conflicts to become errors\n",
      "Loading required package: S4Vectors\n",
      "\n",
      "Loading required package: stats4\n",
      "\n",
      "Loading required package: BiocGenerics\n",
      "\n",
      "\n",
      "Attaching package: ‘BiocGenerics’\n",
      "\n",
      "\n",
      "The following objects are masked from ‘package:lubridate’:\n",
      "\n",
      "    intersect, setdiff, union\n",
      "\n",
      "\n",
      "The following objects are masked from ‘package:dplyr’:\n",
      "\n",
      "    combine, intersect, setdiff, union\n",
      "\n",
      "\n",
      "The following objects are masked from ‘package:stats’:\n",
      "\n",
      "    IQR, mad, sd, var, xtabs\n",
      "\n",
      "\n",
      "The following objects are masked from ‘package:base’:\n",
      "\n",
      "    anyDuplicated, aperm, append, as.data.frame, basename, cbind,\n",
      "    colnames, dirname, do.call, duplicated, eval, evalq, Filter, Find,\n",
      "    get, grep, grepl, intersect, is.unsorted, lapply, Map, mapply,\n",
      "    match, mget, order, paste, pmax, pmax.int, pmin, pmin.int,\n",
      "    Position, rank, rbind, Reduce, rownames, sapply, setdiff, table,\n",
      "    tapply, union, unique, unsplit, which.max, which.min\n",
      "\n",
      "\n",
      "\n",
      "Attaching package: ‘S4Vectors’\n",
      "\n",
      "\n",
      "The following objects are masked from ‘package:lubridate’:\n",
      "\n",
      "    second, second<-\n",
      "\n",
      "\n",
      "The following objects are masked from ‘package:dplyr’:\n",
      "\n",
      "    first, rename\n",
      "\n",
      "\n",
      "The following object is masked from ‘package:tidyr’:\n",
      "\n",
      "    expand\n",
      "\n",
      "\n",
      "The following object is masked from ‘package:utils’:\n",
      "\n",
      "    findMatches\n",
      "\n",
      "\n",
      "The following objects are masked from ‘package:base’:\n",
      "\n",
      "    expand.grid, I, unname\n",
      "\n",
      "\n",
      "Loading required package: IRanges\n",
      "\n",
      "\n",
      "Attaching package: ‘IRanges’\n",
      "\n",
      "\n",
      "The following object is masked from ‘package:lubridate’:\n",
      "\n",
      "    %within%\n",
      "\n",
      "\n",
      "The following objects are masked from ‘package:dplyr’:\n",
      "\n",
      "    collapse, desc, slice\n",
      "\n",
      "\n",
      "The following object is masked from ‘package:purrr’:\n",
      "\n",
      "    reduce\n",
      "\n",
      "\n",
      "Loading required package: GenomicRanges\n",
      "\n",
      "Loading required package: GenomeInfoDb\n",
      "\n",
      "Loading required package: SummarizedExperiment\n",
      "\n",
      "Loading required package: MatrixGenerics\n",
      "\n",
      "Loading required package: matrixStats\n",
      "\n",
      "\n",
      "Attaching package: ‘matrixStats’\n",
      "\n",
      "\n",
      "The following object is masked from ‘package:dplyr’:\n",
      "\n",
      "    count\n",
      "\n",
      "\n",
      "\n",
      "Attaching package: ‘MatrixGenerics’\n",
      "\n",
      "\n",
      "The following objects are masked from ‘package:matrixStats’:\n",
      "\n",
      "    colAlls, colAnyNAs, colAnys, colAvgsPerRowSet, colCollapse,\n",
      "    colCounts, colCummaxs, colCummins, colCumprods, colCumsums,\n",
      "    colDiffs, colIQRDiffs, colIQRs, colLogSumExps, colMadDiffs,\n",
      "    colMads, colMaxs, colMeans2, colMedians, colMins, colOrderStats,\n",
      "    colProds, colQuantiles, colRanges, colRanks, colSdDiffs, colSds,\n",
      "    colSums2, colTabulates, colVarDiffs, colVars, colWeightedMads,\n",
      "    colWeightedMeans, colWeightedMedians, colWeightedSds,\n",
      "    colWeightedVars, rowAlls, rowAnyNAs, rowAnys, rowAvgsPerColSet,\n",
      "    rowCollapse, rowCounts, rowCummaxs, rowCummins, rowCumprods,\n",
      "    rowCumsums, rowDiffs, rowIQRDiffs, rowIQRs, rowLogSumExps,\n",
      "    rowMadDiffs, rowMads, rowMaxs, rowMeans2, rowMedians, rowMins,\n",
      "    rowOrderStats, rowProds, rowQuantiles, rowRanges, rowRanks,\n",
      "    rowSdDiffs, rowSds, rowSums2, rowTabulates, rowVarDiffs, rowVars,\n",
      "    rowWeightedMads, rowWeightedMeans, rowWeightedMedians,\n",
      "    rowWeightedSds, rowWeightedVars\n",
      "\n",
      "\n",
      "Loading required package: Biobase\n",
      "\n",
      "Welcome to Bioconductor\n",
      "\n",
      "    Vignettes contain introductory material; view with\n",
      "    'browseVignettes()'. To cite Bioconductor, see\n",
      "    'citation(\"Biobase\")', and for packages 'citation(\"pkgname\")'.\n",
      "\n",
      "\n",
      "\n",
      "Attaching package: ‘Biobase’\n",
      "\n",
      "\n",
      "The following object is masked from ‘package:MatrixGenerics’:\n",
      "\n",
      "    rowMedians\n",
      "\n",
      "\n",
      "The following objects are masked from ‘package:matrixStats’:\n",
      "\n",
      "    anyMissing, rowMedians\n",
      "\n",
      "\n"
     ]
    }
   ],
   "source": [
    "library(\"tidyverse\")\n",
    "library(\"DESeq2\")"
   ]
  },
  {
   "cell_type": "markdown",
   "metadata": {
    "vscode": {
     "languageId": "r"
    }
   },
   "source": [
    "# Data import\n",
    "To demonstate the use of DESeqDataSetFromMatrix, we will read in count data from the pasilla package.\n",
    "We read in a count matrix, which we will name `cts`, and the sample information table, which we will name `coldata`."
   ]
  },
  {
   "cell_type": "code",
   "execution_count": 2,
   "metadata": {
    "vscode": {
     "languageId": "r"
    }
   },
   "outputs": [],
   "source": [
    "# Load the counts matrix\n",
    "cts <- read.csv(file = \"data/PDAC_MICRODISSEC_NAIF/rna_seq.csv\",\n",
    "                row.names = 1)\n",
    "\n",
    "# Load the metadata\n",
    "coldata <- read.csv(\"data/PDAC_MICRODISSEC_NAIF/rna_seq_metadata.csv\",\n",
    "                    row.names = 1)\n",
    "\n",
    "# load the microdissection densities table\n",
    "densities <- read.csv(file = \"data/MALDI_IHC/microdissection_densities.csv\",\n",
    "                      row.names = 1)"
   ]
  },
  {
   "cell_type": "code",
   "execution_count": 3,
   "metadata": {
    "vscode": {
     "languageId": "r"
    }
   },
   "outputs": [],
   "source": [
    "# Exclude the samples that have no microdissection densities\n",
    "cts <- cts[, colnames(cts) %in% rownames(densities)]\n",
    "coldata <- coldata[rownames(densities), ]\n",
    "\n",
    "# Reorder the columns of the counts matrix\n",
    "cts <- cts[, rownames(densities)]"
   ]
  },
  {
   "cell_type": "markdown",
   "metadata": {},
   "source": [
    "# Normalize the counts using upper quartile normalization"
   ]
  },
  {
   "cell_type": "code",
   "execution_count": 4,
   "metadata": {
    "vscode": {
     "languageId": "r"
    }
   },
   "outputs": [
    {
     "data": {
      "text/html": [
       "<table class=\"dataframe\">\n",
       "<caption>A data.frame: 6 × 87</caption>\n",
       "<thead>\n",
       "\t<tr><th></th><th scope=col>BPDAC_023_19_L1_S92</th><th scope=col>BPDAC_023_26_L1_S5</th><th scope=col>BPDAC_023_26_L2_S13</th><th scope=col>X0823_012</th><th scope=col>X0823_013</th><th scope=col>BPDAC_025_15_L1_S85</th><th scope=col>BPDAC_029_26_L1_S70</th><th scope=col>BPDAC_029_26_L2_S78</th><th scope=col>X0923_009</th><th scope=col>X0923_010</th><th scope=col>⋯</th><th scope=col>BPDAC_017_29_L1_S67</th><th scope=col>X0923_023</th><th scope=col>BPDAC_018_19_L1_S83</th><th scope=col>BPDAC_018_22_L1_S91</th><th scope=col>BPDAC_018_22_L2_S4</th><th scope=col>BPDAC_018_22_L3_S12</th><th scope=col>BPDAC_022_25_L1_S76</th><th scope=col>BPDAC_022_25_L2_S84</th><th scope=col>X0923_026</th><th scope=col>X0923_027</th></tr>\n",
       "\t<tr><th></th><th scope=col>&lt;int&gt;</th><th scope=col>&lt;int&gt;</th><th scope=col>&lt;int&gt;</th><th scope=col>&lt;int&gt;</th><th scope=col>&lt;int&gt;</th><th scope=col>&lt;int&gt;</th><th scope=col>&lt;int&gt;</th><th scope=col>&lt;int&gt;</th><th scope=col>&lt;int&gt;</th><th scope=col>&lt;int&gt;</th><th scope=col>⋯</th><th scope=col>&lt;int&gt;</th><th scope=col>&lt;int&gt;</th><th scope=col>&lt;int&gt;</th><th scope=col>&lt;int&gt;</th><th scope=col>&lt;int&gt;</th><th scope=col>&lt;int&gt;</th><th scope=col>&lt;int&gt;</th><th scope=col>&lt;int&gt;</th><th scope=col>&lt;int&gt;</th><th scope=col>&lt;int&gt;</th></tr>\n",
       "</thead>\n",
       "<tbody>\n",
       "\t<tr><th scope=row>ENSG00000160072</th><td> 459</td><td> 572</td><td>0</td><td> 365</td><td> 312</td><td>212</td><td>77</td><td>86</td><td> 86</td><td> 67</td><td>⋯</td><td>15</td><td>171</td><td>372</td><td>647</td><td>354</td><td>593</td><td>191</td><td>4</td><td> 95</td><td> 56</td></tr>\n",
       "\t<tr><th scope=row>ENSG00000234396</th><td>   0</td><td>   0</td><td>0</td><td>   5</td><td>   0</td><td>  1</td><td> 0</td><td> 0</td><td>  0</td><td> 13</td><td>⋯</td><td> 0</td><td>  0</td><td>  0</td><td>  6</td><td>  4</td><td>  0</td><td>  0</td><td>0</td><td>  4</td><td>  0</td></tr>\n",
       "\t<tr><th scope=row>ENSG00000225972</th><td>3364</td><td>3967</td><td>0</td><td>2501</td><td>4641</td><td> 16</td><td>54</td><td>22</td><td> 72</td><td> 41</td><td>⋯</td><td>21</td><td> 57</td><td> 15</td><td>  5</td><td> 40</td><td> 14</td><td> 58</td><td>0</td><td> 54</td><td> 25</td></tr>\n",
       "\t<tr><th scope=row>ENSG00000224315</th><td>  30</td><td>   0</td><td>0</td><td>  25</td><td>  40</td><td> 27</td><td> 0</td><td> 0</td><td> 85</td><td>  0</td><td>⋯</td><td> 0</td><td> 10</td><td> 16</td><td> 24</td><td> 64</td><td>  4</td><td>  0</td><td>0</td><td> 13</td><td>  6</td></tr>\n",
       "\t<tr><th scope=row>ENSG00000198744</th><td> 314</td><td> 167</td><td>0</td><td> 329</td><td> 330</td><td> 44</td><td>23</td><td>44</td><td>160</td><td>128</td><td>⋯</td><td>23</td><td>201</td><td> 34</td><td> 39</td><td> 58</td><td> 60</td><td>206</td><td>1</td><td>276</td><td>101</td></tr>\n",
       "\t<tr><th scope=row>ENSG00000279928</th><td>   1</td><td>   0</td><td>0</td><td>   0</td><td>   0</td><td>  1</td><td> 0</td><td> 0</td><td>  0</td><td>  0</td><td>⋯</td><td> 0</td><td>  2</td><td>  8</td><td>  6</td><td> 23</td><td>  3</td><td>  2</td><td>3</td><td>  0</td><td>  0</td></tr>\n",
       "</tbody>\n",
       "</table>\n"
      ],
      "text/latex": [
       "A data.frame: 6 × 87\n",
       "\\begin{tabular}{r|lllllllllllllllllllll}\n",
       "  & BPDAC\\_023\\_19\\_L1\\_S92 & BPDAC\\_023\\_26\\_L1\\_S5 & BPDAC\\_023\\_26\\_L2\\_S13 & X0823\\_012 & X0823\\_013 & BPDAC\\_025\\_15\\_L1\\_S85 & BPDAC\\_029\\_26\\_L1\\_S70 & BPDAC\\_029\\_26\\_L2\\_S78 & X0923\\_009 & X0923\\_010 & ⋯ & BPDAC\\_017\\_29\\_L1\\_S67 & X0923\\_023 & BPDAC\\_018\\_19\\_L1\\_S83 & BPDAC\\_018\\_22\\_L1\\_S91 & BPDAC\\_018\\_22\\_L2\\_S4 & BPDAC\\_018\\_22\\_L3\\_S12 & BPDAC\\_022\\_25\\_L1\\_S76 & BPDAC\\_022\\_25\\_L2\\_S84 & X0923\\_026 & X0923\\_027\\\\\n",
       "  & <int> & <int> & <int> & <int> & <int> & <int> & <int> & <int> & <int> & <int> & ⋯ & <int> & <int> & <int> & <int> & <int> & <int> & <int> & <int> & <int> & <int>\\\\\n",
       "\\hline\n",
       "\tENSG00000160072 &  459 &  572 & 0 &  365 &  312 & 212 & 77 & 86 &  86 &  67 & ⋯ & 15 & 171 & 372 & 647 & 354 & 593 & 191 & 4 &  95 &  56\\\\\n",
       "\tENSG00000234396 &    0 &    0 & 0 &    5 &    0 &   1 &  0 &  0 &   0 &  13 & ⋯ &  0 &   0 &   0 &   6 &   4 &   0 &   0 & 0 &   4 &   0\\\\\n",
       "\tENSG00000225972 & 3364 & 3967 & 0 & 2501 & 4641 &  16 & 54 & 22 &  72 &  41 & ⋯ & 21 &  57 &  15 &   5 &  40 &  14 &  58 & 0 &  54 &  25\\\\\n",
       "\tENSG00000224315 &   30 &    0 & 0 &   25 &   40 &  27 &  0 &  0 &  85 &   0 & ⋯ &  0 &  10 &  16 &  24 &  64 &   4 &   0 & 0 &  13 &   6\\\\\n",
       "\tENSG00000198744 &  314 &  167 & 0 &  329 &  330 &  44 & 23 & 44 & 160 & 128 & ⋯ & 23 & 201 &  34 &  39 &  58 &  60 & 206 & 1 & 276 & 101\\\\\n",
       "\tENSG00000279928 &    1 &    0 & 0 &    0 &    0 &   1 &  0 &  0 &   0 &   0 & ⋯ &  0 &   2 &   8 &   6 &  23 &   3 &   2 & 3 &   0 &   0\\\\\n",
       "\\end{tabular}\n"
      ],
      "text/markdown": [
       "\n",
       "A data.frame: 6 × 87\n",
       "\n",
       "| <!--/--> | BPDAC_023_19_L1_S92 &lt;int&gt; | BPDAC_023_26_L1_S5 &lt;int&gt; | BPDAC_023_26_L2_S13 &lt;int&gt; | X0823_012 &lt;int&gt; | X0823_013 &lt;int&gt; | BPDAC_025_15_L1_S85 &lt;int&gt; | BPDAC_029_26_L1_S70 &lt;int&gt; | BPDAC_029_26_L2_S78 &lt;int&gt; | X0923_009 &lt;int&gt; | X0923_010 &lt;int&gt; | ⋯ ⋯ | BPDAC_017_29_L1_S67 &lt;int&gt; | X0923_023 &lt;int&gt; | BPDAC_018_19_L1_S83 &lt;int&gt; | BPDAC_018_22_L1_S91 &lt;int&gt; | BPDAC_018_22_L2_S4 &lt;int&gt; | BPDAC_018_22_L3_S12 &lt;int&gt; | BPDAC_022_25_L1_S76 &lt;int&gt; | BPDAC_022_25_L2_S84 &lt;int&gt; | X0923_026 &lt;int&gt; | X0923_027 &lt;int&gt; |\n",
       "|---|---|---|---|---|---|---|---|---|---|---|---|---|---|---|---|---|---|---|---|---|---|\n",
       "| ENSG00000160072 |  459 |  572 | 0 |  365 |  312 | 212 | 77 | 86 |  86 |  67 | ⋯ | 15 | 171 | 372 | 647 | 354 | 593 | 191 | 4 |  95 |  56 |\n",
       "| ENSG00000234396 |    0 |    0 | 0 |    5 |    0 |   1 |  0 |  0 |   0 |  13 | ⋯ |  0 |   0 |   0 |   6 |   4 |   0 |   0 | 0 |   4 |   0 |\n",
       "| ENSG00000225972 | 3364 | 3967 | 0 | 2501 | 4641 |  16 | 54 | 22 |  72 |  41 | ⋯ | 21 |  57 |  15 |   5 |  40 |  14 |  58 | 0 |  54 |  25 |\n",
       "| ENSG00000224315 |   30 |    0 | 0 |   25 |   40 |  27 |  0 |  0 |  85 |   0 | ⋯ |  0 |  10 |  16 |  24 |  64 |   4 |   0 | 0 |  13 |   6 |\n",
       "| ENSG00000198744 |  314 |  167 | 0 |  329 |  330 |  44 | 23 | 44 | 160 | 128 | ⋯ | 23 | 201 |  34 |  39 |  58 |  60 | 206 | 1 | 276 | 101 |\n",
       "| ENSG00000279928 |    1 |    0 | 0 |    0 |    0 |   1 |  0 |  0 |   0 |   0 | ⋯ |  0 |   2 |   8 |   6 |  23 |   3 |   2 | 3 |   0 |   0 |\n",
       "\n"
      ],
      "text/plain": [
       "                BPDAC_023_19_L1_S92 BPDAC_023_26_L1_S5 BPDAC_023_26_L2_S13\n",
       "ENSG00000160072  459                 572               0                  \n",
       "ENSG00000234396    0                   0               0                  \n",
       "ENSG00000225972 3364                3967               0                  \n",
       "ENSG00000224315   30                   0               0                  \n",
       "ENSG00000198744  314                 167               0                  \n",
       "ENSG00000279928    1                   0               0                  \n",
       "                X0823_012 X0823_013 BPDAC_025_15_L1_S85 BPDAC_029_26_L1_S70\n",
       "ENSG00000160072  365       312      212                 77                 \n",
       "ENSG00000234396    5         0        1                  0                 \n",
       "ENSG00000225972 2501      4641       16                 54                 \n",
       "ENSG00000224315   25        40       27                  0                 \n",
       "ENSG00000198744  329       330       44                 23                 \n",
       "ENSG00000279928    0         0        1                  0                 \n",
       "                BPDAC_029_26_L2_S78 X0923_009 X0923_010 ⋯ BPDAC_017_29_L1_S67\n",
       "ENSG00000160072 86                   86        67       ⋯ 15                 \n",
       "ENSG00000234396  0                    0        13       ⋯  0                 \n",
       "ENSG00000225972 22                   72        41       ⋯ 21                 \n",
       "ENSG00000224315  0                   85         0       ⋯  0                 \n",
       "ENSG00000198744 44                  160       128       ⋯ 23                 \n",
       "ENSG00000279928  0                    0         0       ⋯  0                 \n",
       "                X0923_023 BPDAC_018_19_L1_S83 BPDAC_018_22_L1_S91\n",
       "ENSG00000160072 171       372                 647                \n",
       "ENSG00000234396   0         0                   6                \n",
       "ENSG00000225972  57        15                   5                \n",
       "ENSG00000224315  10        16                  24                \n",
       "ENSG00000198744 201        34                  39                \n",
       "ENSG00000279928   2         8                   6                \n",
       "                BPDAC_018_22_L2_S4 BPDAC_018_22_L3_S12 BPDAC_022_25_L1_S76\n",
       "ENSG00000160072 354                593                 191                \n",
       "ENSG00000234396   4                  0                   0                \n",
       "ENSG00000225972  40                 14                  58                \n",
       "ENSG00000224315  64                  4                   0                \n",
       "ENSG00000198744  58                 60                 206                \n",
       "ENSG00000279928  23                  3                   2                \n",
       "                BPDAC_022_25_L2_S84 X0923_026 X0923_027\n",
       "ENSG00000160072 4                    95        56      \n",
       "ENSG00000234396 0                     4         0      \n",
       "ENSG00000225972 0                    54        25      \n",
       "ENSG00000224315 0                    13         6      \n",
       "ENSG00000198744 1                   276       101      \n",
       "ENSG00000279928 3                     0         0      "
      ]
     },
     "metadata": {},
     "output_type": "display_data"
    }
   ],
   "source": [
    "head(cts)"
   ]
  },
  {
   "cell_type": "code",
   "execution_count": 5,
   "metadata": {
    "vscode": {
     "languageId": "r"
    }
   },
   "outputs": [
    {
     "data": {
      "text/html": [
       "<table class=\"dataframe\">\n",
       "<caption>A matrix: 6 × 87 of type dbl</caption>\n",
       "<thead>\n",
       "\t<tr><th></th><th scope=col>BPDAC_023_19_L1_S92</th><th scope=col>BPDAC_023_26_L1_S5</th><th scope=col>BPDAC_023_26_L2_S13</th><th scope=col>X0823_012</th><th scope=col>X0823_013</th><th scope=col>BPDAC_025_15_L1_S85</th><th scope=col>BPDAC_029_26_L1_S70</th><th scope=col>BPDAC_029_26_L2_S78</th><th scope=col>X0923_009</th><th scope=col>X0923_010</th><th scope=col>⋯</th><th scope=col>BPDAC_017_29_L1_S67</th><th scope=col>X0923_023</th><th scope=col>BPDAC_018_19_L1_S83</th><th scope=col>BPDAC_018_22_L1_S91</th><th scope=col>BPDAC_018_22_L2_S4</th><th scope=col>BPDAC_018_22_L3_S12</th><th scope=col>BPDAC_022_25_L1_S76</th><th scope=col>BPDAC_022_25_L2_S84</th><th scope=col>X0923_026</th><th scope=col>X0923_027</th></tr>\n",
       "</thead>\n",
       "<tbody>\n",
       "\t<tr><th scope=row>ENSG00000160072</th><td>10.884086</td><td>10.931638</td><td>0</td><td>10.931381</td><td>10.246750</td><td>10.148082</td><td>9.562055</td><td>9.499226</td><td> 9.137226</td><td> 9.541957</td><td>⋯</td><td>6.398031</td><td>10.245275</td><td>11.698022</td><td>11.860851</td><td>11.205182</td><td>10.719097</td><td>9.256707</td><td>8.385143</td><td> 9.450241</td><td> 9.546251</td></tr>\n",
       "\t<tr><th scope=row>ENSG00000234396</th><td> 0.000000</td><td> 0.000000</td><td>0</td><td> 4.793790</td><td> 0.000000</td><td> 2.666210</td><td>0.000000</td><td>0.000000</td><td> 0.000000</td><td> 7.184324</td><td>⋯</td><td>0.000000</td><td> 0.000000</td><td> 0.000000</td><td> 5.149046</td><td> 4.790077</td><td> 0.000000</td><td>0.000000</td><td>0.000000</td><td> 4.926558</td><td> 0.000000</td></tr>\n",
       "\t<tr><th scope=row>ENSG00000225972</th><td>13.757038</td><td>13.724967</td><td>0</td><td>13.707287</td><td>14.140460</td><td> 6.435654</td><td>9.050969</td><td>7.538181</td><td> 8.881384</td><td> 8.834647</td><td>⋯</td><td>6.878562</td><td> 8.662687</td><td> 7.076052</td><td> 4.894121</td><td> 8.064294</td><td> 5.349533</td><td>7.542658</td><td>0.000000</td><td> 8.636838</td><td> 8.385143</td></tr>\n",
       "\t<tr><th scope=row>ENSG00000224315</th><td> 6.959501</td><td> 0.000000</td><td>0</td><td> 7.073497</td><td> 7.291327</td><td> 7.183735</td><td>0.000000</td><td>0.000000</td><td> 9.120382</td><td> 0.000000</td><td>⋯</td><td>0.000000</td><td> 6.168361</td><td> 7.168493</td><td> 7.118225</td><td> 8.740343</td><td> 3.628031</td><td>0.000000</td><td>0.000000</td><td> 6.593776</td><td> 6.339850</td></tr>\n",
       "\t<tr><th scope=row>ENSG00000198744</th><td>10.336709</td><td> 9.157261</td><td>0</td><td>10.781653</td><td>10.327605</td><td> 7.884440</td><td>7.823305</td><td>8.534295</td><td>10.031703</td><td>10.474945</td><td>⋯</td><td>7.008740</td><td>10.478296</td><td> 8.250637</td><td> 7.814665</td><td> 8.598673</td><td> 7.421682</td><td>9.365607</td><td>6.398031</td><td>10.987557</td><td>10.396248</td></tr>\n",
       "\t<tr><th scope=row>ENSG00000279928</th><td> 2.354798</td><td> 0.000000</td><td>0</td><td> 0.000000</td><td> 0.000000</td><td> 2.666210</td><td>0.000000</td><td>0.000000</td><td> 0.000000</td><td> 0.000000</td><td>⋯</td><td>0.000000</td><td> 3.924518</td><td> 6.178487</td><td> 5.149046</td><td> 7.269906</td><td> 3.251375</td><td>2.886528</td><td>7.971544</td><td> 0.000000</td><td> 0.000000</td></tr>\n",
       "</tbody>\n",
       "</table>\n"
      ],
      "text/latex": [
       "A matrix: 6 × 87 of type dbl\n",
       "\\begin{tabular}{r|lllllllllllllllllllll}\n",
       "  & BPDAC\\_023\\_19\\_L1\\_S92 & BPDAC\\_023\\_26\\_L1\\_S5 & BPDAC\\_023\\_26\\_L2\\_S13 & X0823\\_012 & X0823\\_013 & BPDAC\\_025\\_15\\_L1\\_S85 & BPDAC\\_029\\_26\\_L1\\_S70 & BPDAC\\_029\\_26\\_L2\\_S78 & X0923\\_009 & X0923\\_010 & ⋯ & BPDAC\\_017\\_29\\_L1\\_S67 & X0923\\_023 & BPDAC\\_018\\_19\\_L1\\_S83 & BPDAC\\_018\\_22\\_L1\\_S91 & BPDAC\\_018\\_22\\_L2\\_S4 & BPDAC\\_018\\_22\\_L3\\_S12 & BPDAC\\_022\\_25\\_L1\\_S76 & BPDAC\\_022\\_25\\_L2\\_S84 & X0923\\_026 & X0923\\_027\\\\\n",
       "\\hline\n",
       "\tENSG00000160072 & 10.884086 & 10.931638 & 0 & 10.931381 & 10.246750 & 10.148082 & 9.562055 & 9.499226 &  9.137226 &  9.541957 & ⋯ & 6.398031 & 10.245275 & 11.698022 & 11.860851 & 11.205182 & 10.719097 & 9.256707 & 8.385143 &  9.450241 &  9.546251\\\\\n",
       "\tENSG00000234396 &  0.000000 &  0.000000 & 0 &  4.793790 &  0.000000 &  2.666210 & 0.000000 & 0.000000 &  0.000000 &  7.184324 & ⋯ & 0.000000 &  0.000000 &  0.000000 &  5.149046 &  4.790077 &  0.000000 & 0.000000 & 0.000000 &  4.926558 &  0.000000\\\\\n",
       "\tENSG00000225972 & 13.757038 & 13.724967 & 0 & 13.707287 & 14.140460 &  6.435654 & 9.050969 & 7.538181 &  8.881384 &  8.834647 & ⋯ & 6.878562 &  8.662687 &  7.076052 &  4.894121 &  8.064294 &  5.349533 & 7.542658 & 0.000000 &  8.636838 &  8.385143\\\\\n",
       "\tENSG00000224315 &  6.959501 &  0.000000 & 0 &  7.073497 &  7.291327 &  7.183735 & 0.000000 & 0.000000 &  9.120382 &  0.000000 & ⋯ & 0.000000 &  6.168361 &  7.168493 &  7.118225 &  8.740343 &  3.628031 & 0.000000 & 0.000000 &  6.593776 &  6.339850\\\\\n",
       "\tENSG00000198744 & 10.336709 &  9.157261 & 0 & 10.781653 & 10.327605 &  7.884440 & 7.823305 & 8.534295 & 10.031703 & 10.474945 & ⋯ & 7.008740 & 10.478296 &  8.250637 &  7.814665 &  8.598673 &  7.421682 & 9.365607 & 6.398031 & 10.987557 & 10.396248\\\\\n",
       "\tENSG00000279928 &  2.354798 &  0.000000 & 0 &  0.000000 &  0.000000 &  2.666210 & 0.000000 & 0.000000 &  0.000000 &  0.000000 & ⋯ & 0.000000 &  3.924518 &  6.178487 &  5.149046 &  7.269906 &  3.251375 & 2.886528 & 7.971544 &  0.000000 &  0.000000\\\\\n",
       "\\end{tabular}\n"
      ],
      "text/markdown": [
       "\n",
       "A matrix: 6 × 87 of type dbl\n",
       "\n",
       "| <!--/--> | BPDAC_023_19_L1_S92 | BPDAC_023_26_L1_S5 | BPDAC_023_26_L2_S13 | X0823_012 | X0823_013 | BPDAC_025_15_L1_S85 | BPDAC_029_26_L1_S70 | BPDAC_029_26_L2_S78 | X0923_009 | X0923_010 | ⋯ | BPDAC_017_29_L1_S67 | X0923_023 | BPDAC_018_19_L1_S83 | BPDAC_018_22_L1_S91 | BPDAC_018_22_L2_S4 | BPDAC_018_22_L3_S12 | BPDAC_022_25_L1_S76 | BPDAC_022_25_L2_S84 | X0923_026 | X0923_027 |\n",
       "|---|---|---|---|---|---|---|---|---|---|---|---|---|---|---|---|---|---|---|---|---|---|\n",
       "| ENSG00000160072 | 10.884086 | 10.931638 | 0 | 10.931381 | 10.246750 | 10.148082 | 9.562055 | 9.499226 |  9.137226 |  9.541957 | ⋯ | 6.398031 | 10.245275 | 11.698022 | 11.860851 | 11.205182 | 10.719097 | 9.256707 | 8.385143 |  9.450241 |  9.546251 |\n",
       "| ENSG00000234396 |  0.000000 |  0.000000 | 0 |  4.793790 |  0.000000 |  2.666210 | 0.000000 | 0.000000 |  0.000000 |  7.184324 | ⋯ | 0.000000 |  0.000000 |  0.000000 |  5.149046 |  4.790077 |  0.000000 | 0.000000 | 0.000000 |  4.926558 |  0.000000 |\n",
       "| ENSG00000225972 | 13.757038 | 13.724967 | 0 | 13.707287 | 14.140460 |  6.435654 | 9.050969 | 7.538181 |  8.881384 |  8.834647 | ⋯ | 6.878562 |  8.662687 |  7.076052 |  4.894121 |  8.064294 |  5.349533 | 7.542658 | 0.000000 |  8.636838 |  8.385143 |\n",
       "| ENSG00000224315 |  6.959501 |  0.000000 | 0 |  7.073497 |  7.291327 |  7.183735 | 0.000000 | 0.000000 |  9.120382 |  0.000000 | ⋯ | 0.000000 |  6.168361 |  7.168493 |  7.118225 |  8.740343 |  3.628031 | 0.000000 | 0.000000 |  6.593776 |  6.339850 |\n",
       "| ENSG00000198744 | 10.336709 |  9.157261 | 0 | 10.781653 | 10.327605 |  7.884440 | 7.823305 | 8.534295 | 10.031703 | 10.474945 | ⋯ | 7.008740 | 10.478296 |  8.250637 |  7.814665 |  8.598673 |  7.421682 | 9.365607 | 6.398031 | 10.987557 | 10.396248 |\n",
       "| ENSG00000279928 |  2.354798 |  0.000000 | 0 |  0.000000 |  0.000000 |  2.666210 | 0.000000 | 0.000000 |  0.000000 |  0.000000 | ⋯ | 0.000000 |  3.924518 |  6.178487 |  5.149046 |  7.269906 |  3.251375 | 2.886528 | 7.971544 |  0.000000 |  0.000000 |\n",
       "\n"
      ],
      "text/plain": [
       "                BPDAC_023_19_L1_S92 BPDAC_023_26_L1_S5 BPDAC_023_26_L2_S13\n",
       "ENSG00000160072 10.884086           10.931638          0                  \n",
       "ENSG00000234396  0.000000            0.000000          0                  \n",
       "ENSG00000225972 13.757038           13.724967          0                  \n",
       "ENSG00000224315  6.959501            0.000000          0                  \n",
       "ENSG00000198744 10.336709            9.157261          0                  \n",
       "ENSG00000279928  2.354798            0.000000          0                  \n",
       "                X0823_012 X0823_013 BPDAC_025_15_L1_S85 BPDAC_029_26_L1_S70\n",
       "ENSG00000160072 10.931381 10.246750 10.148082           9.562055           \n",
       "ENSG00000234396  4.793790  0.000000  2.666210           0.000000           \n",
       "ENSG00000225972 13.707287 14.140460  6.435654           9.050969           \n",
       "ENSG00000224315  7.073497  7.291327  7.183735           0.000000           \n",
       "ENSG00000198744 10.781653 10.327605  7.884440           7.823305           \n",
       "ENSG00000279928  0.000000  0.000000  2.666210           0.000000           \n",
       "                BPDAC_029_26_L2_S78 X0923_009 X0923_010 ⋯ BPDAC_017_29_L1_S67\n",
       "ENSG00000160072 9.499226             9.137226  9.541957 ⋯ 6.398031           \n",
       "ENSG00000234396 0.000000             0.000000  7.184324 ⋯ 0.000000           \n",
       "ENSG00000225972 7.538181             8.881384  8.834647 ⋯ 6.878562           \n",
       "ENSG00000224315 0.000000             9.120382  0.000000 ⋯ 0.000000           \n",
       "ENSG00000198744 8.534295            10.031703 10.474945 ⋯ 7.008740           \n",
       "ENSG00000279928 0.000000             0.000000  0.000000 ⋯ 0.000000           \n",
       "                X0923_023 BPDAC_018_19_L1_S83 BPDAC_018_22_L1_S91\n",
       "ENSG00000160072 10.245275 11.698022           11.860851          \n",
       "ENSG00000234396  0.000000  0.000000            5.149046          \n",
       "ENSG00000225972  8.662687  7.076052            4.894121          \n",
       "ENSG00000224315  6.168361  7.168493            7.118225          \n",
       "ENSG00000198744 10.478296  8.250637            7.814665          \n",
       "ENSG00000279928  3.924518  6.178487            5.149046          \n",
       "                BPDAC_018_22_L2_S4 BPDAC_018_22_L3_S12 BPDAC_022_25_L1_S76\n",
       "ENSG00000160072 11.205182          10.719097           9.256707           \n",
       "ENSG00000234396  4.790077           0.000000           0.000000           \n",
       "ENSG00000225972  8.064294           5.349533           7.542658           \n",
       "ENSG00000224315  8.740343           3.628031           0.000000           \n",
       "ENSG00000198744  8.598673           7.421682           9.365607           \n",
       "ENSG00000279928  7.269906           3.251375           2.886528           \n",
       "                BPDAC_022_25_L2_S84 X0923_026 X0923_027\n",
       "ENSG00000160072 8.385143             9.450241  9.546251\n",
       "ENSG00000234396 0.000000             4.926558  0.000000\n",
       "ENSG00000225972 0.000000             8.636838  8.385143\n",
       "ENSG00000224315 0.000000             6.593776  6.339850\n",
       "ENSG00000198744 6.398031            10.987557 10.396248\n",
       "ENSG00000279928 7.971544             0.000000  0.000000"
      ]
     },
     "metadata": {},
     "output_type": "display_data"
    }
   ],
   "source": [
    "# Define the function to normalize the counts\n",
    "uqnorm <- function(rawcounts)\n",
    "{\n",
    "  log2(1 + (t(t(rawcounts)/apply(rawcounts, 2, function(x) {\n",
    "    quantile(x[which(x > 0)], probs = 0.75)})) * 1000))\n",
    "}\n",
    "\n",
    "# Normalize the counts\n",
    "cts_normalized_uqnorm <- uqnorm(cts)\n",
    "\n",
    "head(cts_normalized_uqnorm)"
   ]
  },
  {
   "cell_type": "markdown",
   "metadata": {},
   "source": [
    "## Verify the integrity of the data"
   ]
  },
  {
   "cell_type": "code",
   "execution_count": 6,
   "metadata": {
    "vscode": {
     "languageId": "r"
    }
   },
   "outputs": [
    {
     "data": {
      "text/html": [
       "<table class=\"dataframe\">\n",
       "<caption>A data.frame: 6 × 93</caption>\n",
       "<thead>\n",
       "\t<tr><th></th><th scope=col>patient_ID2</th><th scope=col>sample_ID</th><th scope=col>ID_DNA</th><th scope=col>N..histo</th><th scope=col>ID_Anapath</th><th scope=col>Idpatient_bloc</th><th scope=col>Idpatient</th><th scope=col>sample_ID_4_merge</th><th scope=col>path_svs</th><th scope=col>ID_scan</th><th scope=col>⋯</th><th scope=col>DECES.1.OUI</th><th scope=col>date_décès</th><th scope=col>OS..jours.</th><th scope=col>OS..360.jours.</th><th scope=col>OS..mois.</th><th scope=col>PFS..jours.</th><th scope=col>PFS.formule</th><th scope=col>PFS..mois.</th><th scope=col>Unnamed..27</th><th scope=col>infiltrat_lymphocytaire</th></tr>\n",
       "\t<tr><th></th><th scope=col>&lt;chr&gt;</th><th scope=col>&lt;chr&gt;</th><th scope=col>&lt;chr&gt;</th><th scope=col>&lt;chr&gt;</th><th scope=col>&lt;chr&gt;</th><th scope=col>&lt;chr&gt;</th><th scope=col>&lt;chr&gt;</th><th scope=col>&lt;chr&gt;</th><th scope=col>&lt;chr&gt;</th><th scope=col>&lt;chr&gt;</th><th scope=col>⋯</th><th scope=col>&lt;dbl&gt;</th><th scope=col>&lt;chr&gt;</th><th scope=col>&lt;dbl&gt;</th><th scope=col>&lt;dbl&gt;</th><th scope=col>&lt;dbl&gt;</th><th scope=col>&lt;dbl&gt;</th><th scope=col>&lt;dbl&gt;</th><th scope=col>&lt;dbl&gt;</th><th scope=col>&lt;chr&gt;</th><th scope=col>&lt;chr&gt;</th></tr>\n",
       "</thead>\n",
       "<tbody>\n",
       "\t<tr><th scope=row>BPDAC_023_19_L1_S92</th><td>BPDAC_023</td><td>BPDAC_023_19_L1       </td><td></td><td>B_12AG01290_19_L1</td><td>12AG01290_19_L1</td><td>12AG01290_19</td><td>12AG01290</td><td>12AG01290-19</td><td>\\\\bob\\histology\\datasets\\PDAC_Bjn_100\\PDAC_MICRODISSEC_NAIF\\old_names\\12AG01290-19_MDNF01_HES.svs</td><td>12AG01290-19_MDNF01_HES.svs</td><td>⋯</td><td>0</td><td></td><td> 356</td><td> 351</td><td>11.50820</td><td> 316</td><td> 321</td><td>10.36066</td><td></td><td>fort  </td></tr>\n",
       "\t<tr><th scope=row>BPDAC_023_26_L1_S5</th><td>BPDAC_023</td><td>BPDAC_023_26_L1_MDNF01</td><td></td><td>B_12AG01290_26_L1</td><td>12AG01290_26_L1</td><td>12AG01290_26</td><td>12AG01290</td><td>12AG01290-26</td><td>\\\\bob\\histology\\datasets\\PDAC_Bjn_100\\PDAC_MICRODISSEC_NAIF\\old_names\\12AG01290-26_MDNF01_HES.svs</td><td>12AG01290-26_MDNF01_HES.svs</td><td>⋯</td><td>0</td><td></td><td> 356</td><td> 351</td><td>11.50820</td><td> 316</td><td> 321</td><td>10.36066</td><td></td><td>modere</td></tr>\n",
       "\t<tr><th scope=row>BPDAC_023_26_L2_S13</th><td>BPDAC_023</td><td>BPDAC_023_26_L2_MDNF01</td><td></td><td>B_12AG01290_26_L2</td><td>12AG01290_26_L2</td><td>12AG01290_26</td><td>12AG01290</td><td>12AG01290-26</td><td>\\\\bob\\histology\\datasets\\PDAC_Bjn_100\\PDAC_MICRODISSEC_NAIF\\old_names\\12AG01290-26_MDNF01_HES.svs</td><td>12AG01290-26_MDNF01_HES.svs</td><td>⋯</td><td>0</td><td></td><td> 356</td><td> 351</td><td>11.50820</td><td> 316</td><td> 321</td><td>10.36066</td><td></td><td>faible</td></tr>\n",
       "\t<tr><th scope=row>X0823_012</th><td>BPDAC_023</td><td>BPDAC_023_26_L1_MDNF02</td><td></td><td>B_12AG01290_26_L1</td><td>12AG01290_26_L1</td><td>12AG01290_26</td><td>12AG01290</td><td>12AG01290-26</td><td>\\\\bob\\histology\\datasets\\PDAC_Bjn_100\\PDAC_MICRODISSEC_NAIF\\old_names\\12AG01290-26_MDNF02_HES.svs</td><td>12AG01290-26_MDNF02_HES.svs</td><td>⋯</td><td>0</td><td></td><td> 356</td><td> 351</td><td>11.50820</td><td> 316</td><td> 321</td><td>10.36066</td><td></td><td>faible</td></tr>\n",
       "\t<tr><th scope=row>X0823_013</th><td>BPDAC_023</td><td>BPDAC_023_26_L2_MDNF02</td><td></td><td>B_12AG01290_26_L2</td><td>12AG01290_26_L2</td><td>12AG01290_26</td><td>12AG01290</td><td>12AG01290-26</td><td>\\\\bob\\histology\\datasets\\PDAC_Bjn_100\\PDAC_MICRODISSEC_NAIF\\old_names\\12AG01290-26_MDNF02_HES.svs</td><td>12AG01290-26_MDNF02_HES.svs</td><td>⋯</td><td>0</td><td></td><td> 356</td><td> 351</td><td>11.50820</td><td> 316</td><td> 321</td><td>10.36066</td><td></td><td>modere</td></tr>\n",
       "\t<tr><th scope=row>BPDAC_025_15_L1_S85</th><td>BPDAC_025</td><td>BPDAC_025_15_L1       </td><td></td><td>B_12AG01824_15_L1</td><td>12AG01824_15_L1</td><td>12AG01824_15</td><td>12AG01824</td><td>12AG01824-15</td><td>\\\\bob\\histology\\datasets\\PDAC_Bjn_100\\PDAC_MICRODISSEC_NAIF\\old_names\\12AG01824-15_MDNF01_HES.svs</td><td>12AG01824-15_MDNF01_HES.svs</td><td>⋯</td><td>0</td><td></td><td>1297</td><td>1279</td><td>41.93443</td><td>1279</td><td>1297</td><td>41.93443</td><td></td><td>modere</td></tr>\n",
       "</tbody>\n",
       "</table>\n"
      ],
      "text/latex": [
       "A data.frame: 6 × 93\n",
       "\\begin{tabular}{r|lllllllllllllllllllll}\n",
       "  & patient\\_ID2 & sample\\_ID & ID\\_DNA & N..histo & ID\\_Anapath & Idpatient\\_bloc & Idpatient & sample\\_ID\\_4\\_merge & path\\_svs & ID\\_scan & ⋯ & DECES.1.OUI & date\\_décès & OS..jours. & OS..360.jours. & OS..mois. & PFS..jours. & PFS.formule & PFS..mois. & Unnamed..27 & infiltrat\\_lymphocytaire\\\\\n",
       "  & <chr> & <chr> & <chr> & <chr> & <chr> & <chr> & <chr> & <chr> & <chr> & <chr> & ⋯ & <dbl> & <chr> & <dbl> & <dbl> & <dbl> & <dbl> & <dbl> & <dbl> & <chr> & <chr>\\\\\n",
       "\\hline\n",
       "\tBPDAC\\_023\\_19\\_L1\\_S92 & BPDAC\\_023 & BPDAC\\_023\\_19\\_L1        &  & B\\_12AG01290\\_19\\_L1 & 12AG01290\\_19\\_L1 & 12AG01290\\_19 & 12AG01290 & 12AG01290-19 & \\textbackslash{}\\textbackslash{}bob\\textbackslash{}histology\\textbackslash{}datasets\\textbackslash{}PDAC\\_Bjn\\_100\\textbackslash{}PDAC\\_MICRODISSEC\\_NAIF\\textbackslash{}old\\_names\\textbackslash{}12AG01290-19\\_MDNF01\\_HES.svs & 12AG01290-19\\_MDNF01\\_HES.svs & ⋯ & 0 &  &  356 &  351 & 11.50820 &  316 &  321 & 10.36066 &  & fort  \\\\\n",
       "\tBPDAC\\_023\\_26\\_L1\\_S5 & BPDAC\\_023 & BPDAC\\_023\\_26\\_L1\\_MDNF01 &  & B\\_12AG01290\\_26\\_L1 & 12AG01290\\_26\\_L1 & 12AG01290\\_26 & 12AG01290 & 12AG01290-26 & \\textbackslash{}\\textbackslash{}bob\\textbackslash{}histology\\textbackslash{}datasets\\textbackslash{}PDAC\\_Bjn\\_100\\textbackslash{}PDAC\\_MICRODISSEC\\_NAIF\\textbackslash{}old\\_names\\textbackslash{}12AG01290-26\\_MDNF01\\_HES.svs & 12AG01290-26\\_MDNF01\\_HES.svs & ⋯ & 0 &  &  356 &  351 & 11.50820 &  316 &  321 & 10.36066 &  & modere\\\\\n",
       "\tBPDAC\\_023\\_26\\_L2\\_S13 & BPDAC\\_023 & BPDAC\\_023\\_26\\_L2\\_MDNF01 &  & B\\_12AG01290\\_26\\_L2 & 12AG01290\\_26\\_L2 & 12AG01290\\_26 & 12AG01290 & 12AG01290-26 & \\textbackslash{}\\textbackslash{}bob\\textbackslash{}histology\\textbackslash{}datasets\\textbackslash{}PDAC\\_Bjn\\_100\\textbackslash{}PDAC\\_MICRODISSEC\\_NAIF\\textbackslash{}old\\_names\\textbackslash{}12AG01290-26\\_MDNF01\\_HES.svs & 12AG01290-26\\_MDNF01\\_HES.svs & ⋯ & 0 &  &  356 &  351 & 11.50820 &  316 &  321 & 10.36066 &  & faible\\\\\n",
       "\tX0823\\_012 & BPDAC\\_023 & BPDAC\\_023\\_26\\_L1\\_MDNF02 &  & B\\_12AG01290\\_26\\_L1 & 12AG01290\\_26\\_L1 & 12AG01290\\_26 & 12AG01290 & 12AG01290-26 & \\textbackslash{}\\textbackslash{}bob\\textbackslash{}histology\\textbackslash{}datasets\\textbackslash{}PDAC\\_Bjn\\_100\\textbackslash{}PDAC\\_MICRODISSEC\\_NAIF\\textbackslash{}old\\_names\\textbackslash{}12AG01290-26\\_MDNF02\\_HES.svs & 12AG01290-26\\_MDNF02\\_HES.svs & ⋯ & 0 &  &  356 &  351 & 11.50820 &  316 &  321 & 10.36066 &  & faible\\\\\n",
       "\tX0823\\_013 & BPDAC\\_023 & BPDAC\\_023\\_26\\_L2\\_MDNF02 &  & B\\_12AG01290\\_26\\_L2 & 12AG01290\\_26\\_L2 & 12AG01290\\_26 & 12AG01290 & 12AG01290-26 & \\textbackslash{}\\textbackslash{}bob\\textbackslash{}histology\\textbackslash{}datasets\\textbackslash{}PDAC\\_Bjn\\_100\\textbackslash{}PDAC\\_MICRODISSEC\\_NAIF\\textbackslash{}old\\_names\\textbackslash{}12AG01290-26\\_MDNF02\\_HES.svs & 12AG01290-26\\_MDNF02\\_HES.svs & ⋯ & 0 &  &  356 &  351 & 11.50820 &  316 &  321 & 10.36066 &  & modere\\\\\n",
       "\tBPDAC\\_025\\_15\\_L1\\_S85 & BPDAC\\_025 & BPDAC\\_025\\_15\\_L1        &  & B\\_12AG01824\\_15\\_L1 & 12AG01824\\_15\\_L1 & 12AG01824\\_15 & 12AG01824 & 12AG01824-15 & \\textbackslash{}\\textbackslash{}bob\\textbackslash{}histology\\textbackslash{}datasets\\textbackslash{}PDAC\\_Bjn\\_100\\textbackslash{}PDAC\\_MICRODISSEC\\_NAIF\\textbackslash{}old\\_names\\textbackslash{}12AG01824-15\\_MDNF01\\_HES.svs & 12AG01824-15\\_MDNF01\\_HES.svs & ⋯ & 0 &  & 1297 & 1279 & 41.93443 & 1279 & 1297 & 41.93443 &  & modere\\\\\n",
       "\\end{tabular}\n"
      ],
      "text/markdown": [
       "\n",
       "A data.frame: 6 × 93\n",
       "\n",
       "| <!--/--> | patient_ID2 &lt;chr&gt; | sample_ID &lt;chr&gt; | ID_DNA &lt;chr&gt; | N..histo &lt;chr&gt; | ID_Anapath &lt;chr&gt; | Idpatient_bloc &lt;chr&gt; | Idpatient &lt;chr&gt; | sample_ID_4_merge &lt;chr&gt; | path_svs &lt;chr&gt; | ID_scan &lt;chr&gt; | ⋯ ⋯ | DECES.1.OUI &lt;dbl&gt; | date_décès &lt;chr&gt; | OS..jours. &lt;dbl&gt; | OS..360.jours. &lt;dbl&gt; | OS..mois. &lt;dbl&gt; | PFS..jours. &lt;dbl&gt; | PFS.formule &lt;dbl&gt; | PFS..mois. &lt;dbl&gt; | Unnamed..27 &lt;chr&gt; | infiltrat_lymphocytaire &lt;chr&gt; |\n",
       "|---|---|---|---|---|---|---|---|---|---|---|---|---|---|---|---|---|---|---|---|---|---|\n",
       "| BPDAC_023_19_L1_S92 | BPDAC_023 | BPDAC_023_19_L1        | <!----> | B_12AG01290_19_L1 | 12AG01290_19_L1 | 12AG01290_19 | 12AG01290 | 12AG01290-19 | \\\\bob\\histology\\datasets\\PDAC_Bjn_100\\PDAC_MICRODISSEC_NAIF\\old_names\\12AG01290-19_MDNF01_HES.svs | 12AG01290-19_MDNF01_HES.svs | ⋯ | 0 | <!----> |  356 |  351 | 11.50820 |  316 |  321 | 10.36066 | <!----> | fort   |\n",
       "| BPDAC_023_26_L1_S5 | BPDAC_023 | BPDAC_023_26_L1_MDNF01 | <!----> | B_12AG01290_26_L1 | 12AG01290_26_L1 | 12AG01290_26 | 12AG01290 | 12AG01290-26 | \\\\bob\\histology\\datasets\\PDAC_Bjn_100\\PDAC_MICRODISSEC_NAIF\\old_names\\12AG01290-26_MDNF01_HES.svs | 12AG01290-26_MDNF01_HES.svs | ⋯ | 0 | <!----> |  356 |  351 | 11.50820 |  316 |  321 | 10.36066 | <!----> | modere |\n",
       "| BPDAC_023_26_L2_S13 | BPDAC_023 | BPDAC_023_26_L2_MDNF01 | <!----> | B_12AG01290_26_L2 | 12AG01290_26_L2 | 12AG01290_26 | 12AG01290 | 12AG01290-26 | \\\\bob\\histology\\datasets\\PDAC_Bjn_100\\PDAC_MICRODISSEC_NAIF\\old_names\\12AG01290-26_MDNF01_HES.svs | 12AG01290-26_MDNF01_HES.svs | ⋯ | 0 | <!----> |  356 |  351 | 11.50820 |  316 |  321 | 10.36066 | <!----> | faible |\n",
       "| X0823_012 | BPDAC_023 | BPDAC_023_26_L1_MDNF02 | <!----> | B_12AG01290_26_L1 | 12AG01290_26_L1 | 12AG01290_26 | 12AG01290 | 12AG01290-26 | \\\\bob\\histology\\datasets\\PDAC_Bjn_100\\PDAC_MICRODISSEC_NAIF\\old_names\\12AG01290-26_MDNF02_HES.svs | 12AG01290-26_MDNF02_HES.svs | ⋯ | 0 | <!----> |  356 |  351 | 11.50820 |  316 |  321 | 10.36066 | <!----> | faible |\n",
       "| X0823_013 | BPDAC_023 | BPDAC_023_26_L2_MDNF02 | <!----> | B_12AG01290_26_L2 | 12AG01290_26_L2 | 12AG01290_26 | 12AG01290 | 12AG01290-26 | \\\\bob\\histology\\datasets\\PDAC_Bjn_100\\PDAC_MICRODISSEC_NAIF\\old_names\\12AG01290-26_MDNF02_HES.svs | 12AG01290-26_MDNF02_HES.svs | ⋯ | 0 | <!----> |  356 |  351 | 11.50820 |  316 |  321 | 10.36066 | <!----> | modere |\n",
       "| BPDAC_025_15_L1_S85 | BPDAC_025 | BPDAC_025_15_L1        | <!----> | B_12AG01824_15_L1 | 12AG01824_15_L1 | 12AG01824_15 | 12AG01824 | 12AG01824-15 | \\\\bob\\histology\\datasets\\PDAC_Bjn_100\\PDAC_MICRODISSEC_NAIF\\old_names\\12AG01824-15_MDNF01_HES.svs | 12AG01824-15_MDNF01_HES.svs | ⋯ | 0 | <!----> | 1297 | 1279 | 41.93443 | 1279 | 1297 | 41.93443 | <!----> | modere |\n",
       "\n"
      ],
      "text/plain": [
       "                    patient_ID2 sample_ID              ID_DNA N..histo         \n",
       "BPDAC_023_19_L1_S92 BPDAC_023   BPDAC_023_19_L1               B_12AG01290_19_L1\n",
       "BPDAC_023_26_L1_S5  BPDAC_023   BPDAC_023_26_L1_MDNF01        B_12AG01290_26_L1\n",
       "BPDAC_023_26_L2_S13 BPDAC_023   BPDAC_023_26_L2_MDNF01        B_12AG01290_26_L2\n",
       "X0823_012           BPDAC_023   BPDAC_023_26_L1_MDNF02        B_12AG01290_26_L1\n",
       "X0823_013           BPDAC_023   BPDAC_023_26_L2_MDNF02        B_12AG01290_26_L2\n",
       "BPDAC_025_15_L1_S85 BPDAC_025   BPDAC_025_15_L1               B_12AG01824_15_L1\n",
       "                    ID_Anapath      Idpatient_bloc Idpatient sample_ID_4_merge\n",
       "BPDAC_023_19_L1_S92 12AG01290_19_L1 12AG01290_19   12AG01290 12AG01290-19     \n",
       "BPDAC_023_26_L1_S5  12AG01290_26_L1 12AG01290_26   12AG01290 12AG01290-26     \n",
       "BPDAC_023_26_L2_S13 12AG01290_26_L2 12AG01290_26   12AG01290 12AG01290-26     \n",
       "X0823_012           12AG01290_26_L1 12AG01290_26   12AG01290 12AG01290-26     \n",
       "X0823_013           12AG01290_26_L2 12AG01290_26   12AG01290 12AG01290-26     \n",
       "BPDAC_025_15_L1_S85 12AG01824_15_L1 12AG01824_15   12AG01824 12AG01824-15     \n",
       "                    path_svs                                                                                                 \n",
       "BPDAC_023_19_L1_S92 \\\\\\\\bob\\\\histology\\\\datasets\\\\PDAC_Bjn_100\\\\PDAC_MICRODISSEC_NAIF\\\\old_names\\\\12AG01290-19_MDNF01_HES.svs\n",
       "BPDAC_023_26_L1_S5  \\\\\\\\bob\\\\histology\\\\datasets\\\\PDAC_Bjn_100\\\\PDAC_MICRODISSEC_NAIF\\\\old_names\\\\12AG01290-26_MDNF01_HES.svs\n",
       "BPDAC_023_26_L2_S13 \\\\\\\\bob\\\\histology\\\\datasets\\\\PDAC_Bjn_100\\\\PDAC_MICRODISSEC_NAIF\\\\old_names\\\\12AG01290-26_MDNF01_HES.svs\n",
       "X0823_012           \\\\\\\\bob\\\\histology\\\\datasets\\\\PDAC_Bjn_100\\\\PDAC_MICRODISSEC_NAIF\\\\old_names\\\\12AG01290-26_MDNF02_HES.svs\n",
       "X0823_013           \\\\\\\\bob\\\\histology\\\\datasets\\\\PDAC_Bjn_100\\\\PDAC_MICRODISSEC_NAIF\\\\old_names\\\\12AG01290-26_MDNF02_HES.svs\n",
       "BPDAC_025_15_L1_S85 \\\\\\\\bob\\\\histology\\\\datasets\\\\PDAC_Bjn_100\\\\PDAC_MICRODISSEC_NAIF\\\\old_names\\\\12AG01824-15_MDNF01_HES.svs\n",
       "                    ID_scan                     ⋯ DECES.1.OUI date_décès\n",
       "BPDAC_023_19_L1_S92 12AG01290-19_MDNF01_HES.svs ⋯ 0                     \n",
       "BPDAC_023_26_L1_S5  12AG01290-26_MDNF01_HES.svs ⋯ 0                     \n",
       "BPDAC_023_26_L2_S13 12AG01290-26_MDNF01_HES.svs ⋯ 0                     \n",
       "X0823_012           12AG01290-26_MDNF02_HES.svs ⋯ 0                     \n",
       "X0823_013           12AG01290-26_MDNF02_HES.svs ⋯ 0                     \n",
       "BPDAC_025_15_L1_S85 12AG01824-15_MDNF01_HES.svs ⋯ 0                     \n",
       "                    OS..jours. OS..360.jours. OS..mois. PFS..jours. PFS.formule\n",
       "BPDAC_023_19_L1_S92  356        351           11.50820   316         321       \n",
       "BPDAC_023_26_L1_S5   356        351           11.50820   316         321       \n",
       "BPDAC_023_26_L2_S13  356        351           11.50820   316         321       \n",
       "X0823_012            356        351           11.50820   316         321       \n",
       "X0823_013            356        351           11.50820   316         321       \n",
       "BPDAC_025_15_L1_S85 1297       1279           41.93443  1279        1297       \n",
       "                    PFS..mois. Unnamed..27 infiltrat_lymphocytaire\n",
       "BPDAC_023_19_L1_S92 10.36066               fort                   \n",
       "BPDAC_023_26_L1_S5  10.36066               modere                 \n",
       "BPDAC_023_26_L2_S13 10.36066               faible                 \n",
       "X0823_012           10.36066               faible                 \n",
       "X0823_013           10.36066               modere                 \n",
       "BPDAC_025_15_L1_S85 41.93443               modere                 "
      ]
     },
     "metadata": {},
     "output_type": "display_data"
    }
   ],
   "source": [
    "head(coldata)"
   ]
  },
  {
   "cell_type": "code",
   "execution_count": 7,
   "metadata": {
    "vscode": {
     "languageId": "r"
    }
   },
   "outputs": [
    {
     "data": {
      "text/html": [
       "TRUE"
      ],
      "text/latex": [
       "TRUE"
      ],
      "text/markdown": [
       "TRUE"
      ],
      "text/plain": [
       "[1] TRUE"
      ]
     },
     "metadata": {},
     "output_type": "display_data"
    }
   ],
   "source": [
    "# Check again if the names are the same regardless of the order\n",
    "all(rownames(coldata) %in% colnames(cts))"
   ]
  },
  {
   "cell_type": "code",
   "execution_count": 8,
   "metadata": {
    "vscode": {
     "languageId": "r"
    }
   },
   "outputs": [
    {
     "data": {
      "text/html": [
       "TRUE"
      ],
      "text/latex": [
       "TRUE"
      ],
      "text/markdown": [
       "TRUE"
      ],
      "text/plain": [
       "[1] TRUE"
      ]
     },
     "metadata": {},
     "output_type": "display_data"
    }
   ],
   "source": [
    "# Check again if order is the same\n",
    "all(rownames(coldata) == colnames(cts))"
   ]
  },
  {
   "cell_type": "markdown",
   "metadata": {},
   "source": [
    "# Save the normalized counts"
   ]
  },
  {
   "cell_type": "code",
   "execution_count": 9,
   "metadata": {
    "vscode": {
     "languageId": "r"
    }
   },
   "outputs": [],
   "source": [
    "# Save the normalized counts\n",
    "cts_normalized_uqnorm |>\n",
    "  write.csv(file = \"data/PDAC_MICRODISSEC_NAIF/rna_seq_selected_uqnorm.csv\")"
   ]
  },
  {
   "cell_type": "markdown",
   "metadata": {
    "vscode": {
     "languageId": "r"
    }
   },
   "source": [
    "# Construct a DESeqDataSet\n",
    "Now both the coldata and `cts` have the same row names in the same order.\n",
    "With the count matrix, `cts`, and the sample information, `coldata`, we can construct a `DESeqDataSet`:"
   ]
  },
  {
   "cell_type": "code",
   "execution_count": 10,
   "metadata": {
    "vscode": {
     "languageId": "r"
    }
   },
   "outputs": [
    {
     "data": {
      "text/plain": [
       "class: DESeqDataSet \n",
       "dim: 61806 87 \n",
       "metadata(1): version\n",
       "assays(1): counts\n",
       "rownames(61806): ENSG00000160072 ENSG00000234396 ... ENSG00000210195\n",
       "  ENSG00000210196\n",
       "rowData names(0):\n",
       "colnames(87): BPDAC_023_19_L1_S92 BPDAC_023_26_L1_S5 ... X0923_026\n",
       "  X0923_027\n",
       "colData names(94): patient_ID2 sample_ID ... infiltrat_lymphocytaire\n",
       "  condition"
      ]
     },
     "metadata": {},
     "output_type": "display_data"
    }
   ],
   "source": [
    "# Make a factor of random positive and negative samples\n",
    "coldata$condition <- factor(sample(c(\"Positive\", \"Negative\"), size = nrow(coldata), replace = TRUE))\n",
    "\n",
    "dds <- DESeqDataSetFromMatrix(countData = cts,\n",
    "                              colData = coldata,\n",
    "                              design = ~ condition)\n",
    "dds"
   ]
  },
  {
   "cell_type": "markdown",
   "metadata": {},
   "source": [
    "## Extracting transformed values\n",
    "These transformation functions return an object of class DESeqTransform which is a subclass of RangedSummarizedExperiment.\n",
    "For ~20 samples, running on a newly created DESeqDataSet. The assay function is used to extract the matrix of normalized values."
   ]
  },
  {
   "cell_type": "code",
   "execution_count": 11,
   "metadata": {
    "vscode": {
     "languageId": "r"
    }
   },
   "outputs": [
    {
     "data": {
      "text/plain": [
       "class: DESeqTransform \n",
       "dim: 61806 87 \n",
       "metadata(1): version\n",
       "assays(1): ''\n",
       "rownames(61806): ENSG00000160072 ENSG00000234396 ... ENSG00000210195\n",
       "  ENSG00000210196\n",
       "rowData names(4): baseMean baseVar allZero dispFit\n",
       "colnames(87): BPDAC_023_19_L1_S92 BPDAC_023_26_L1_S5 ... X0923_026\n",
       "  X0923_027\n",
       "colData names(95): patient_ID2 sample_ID ... condition sizeFactor"
      ]
     },
     "metadata": {},
     "output_type": "display_data"
    }
   ],
   "source": [
    "vsd <- dds |> vst()\n",
    "vsd"
   ]
  },
  {
   "cell_type": "code",
   "execution_count": 12,
   "metadata": {
    "vscode": {
     "languageId": "r"
    }
   },
   "outputs": [
    {
     "data": {
      "text/html": [
       "<table class=\"dataframe\">\n",
       "<caption>A matrix: 6 × 87 of type dbl</caption>\n",
       "<thead>\n",
       "\t<tr><th></th><th scope=col>BPDAC_023_19_L1_S92</th><th scope=col>BPDAC_023_26_L1_S5</th><th scope=col>BPDAC_023_26_L2_S13</th><th scope=col>X0823_012</th><th scope=col>X0823_013</th><th scope=col>BPDAC_025_15_L1_S85</th><th scope=col>BPDAC_029_26_L1_S70</th><th scope=col>BPDAC_029_26_L2_S78</th><th scope=col>X0923_009</th><th scope=col>X0923_010</th><th scope=col>⋯</th><th scope=col>BPDAC_017_29_L1_S67</th><th scope=col>X0923_023</th><th scope=col>BPDAC_018_19_L1_S83</th><th scope=col>BPDAC_018_22_L1_S91</th><th scope=col>BPDAC_018_22_L2_S4</th><th scope=col>BPDAC_018_22_L3_S12</th><th scope=col>BPDAC_022_25_L1_S76</th><th scope=col>BPDAC_022_25_L2_S84</th><th scope=col>X0923_026</th><th scope=col>X0923_027</th></tr>\n",
       "</thead>\n",
       "<tbody>\n",
       "\t<tr><th scope=row>ENSG00000160072</th><td> 8.145062</td><td> 8.341551</td><td>5.116169</td><td> 8.342406</td><td> 7.882671</td><td>7.787172</td><td>8.757379</td><td>7.487186</td><td>7.358658</td><td>7.511037</td><td>⋯</td><td>6.268452</td><td>7.858504</td><td>8.537024</td><td>8.688237</td><td>8.111345</td><td>7.863419</td><td>7.596872</td><td>8.171762</td><td>7.403251</td><td>7.620162</td></tr>\n",
       "\t<tr><th scope=row>ENSG00000234396</th><td> 5.116169</td><td> 5.116169</td><td>5.116169</td><td> 5.575576</td><td> 5.116169</td><td>5.326773</td><td>5.116169</td><td>5.116169</td><td>5.116169</td><td>6.265784</td><td>⋯</td><td>5.116169</td><td>5.116169</td><td>5.116169</td><td>5.553333</td><td>5.493813</td><td>5.116169</td><td>5.116169</td><td>5.116169</td><td>5.633403</td><td>5.116169</td></tr>\n",
       "\t<tr><th scope=row>ENSG00000225972</th><td>10.702245</td><td>10.863453</td><td>5.116169</td><td>10.847690</td><td>11.357258</td><td>5.947771</td><td>8.332811</td><td>6.411068</td><td>7.196060</td><td>7.061471</td><td>⋯</td><td>6.466289</td><td>6.843739</td><td>5.963481</td><td>5.515496</td><td>6.281830</td><td>5.602711</td><td>6.592640</td><td>5.116169</td><td>6.909162</td><td>6.892850</td></tr>\n",
       "\t<tr><th scope=row>ENSG00000224315</th><td> 6.025646</td><td> 5.116169</td><td>5.116169</td><td> 6.126977</td><td> 6.237218</td><td>6.186736</td><td>5.116169</td><td>5.116169</td><td>7.347691</td><td>5.116169</td><td>⋯</td><td>5.116169</td><td>5.875005</td><td>5.990461</td><td>5.980846</td><td>6.568903</td><td>5.377115</td><td>5.116169</td><td>5.116169</td><td>6.037872</td><td>6.027392</td></tr>\n",
       "\t<tr><th scope=row>ENSG00000198744</th><td> 7.733498</td><td> 7.088121</td><td>5.116169</td><td> 8.222636</td><td> 7.943229</td><td>6.464757</td><td>7.424035</td><td>6.894736</td><td>7.991938</td><td>8.198857</td><td>⋯</td><td>6.524640</td><td>8.034164</td><td>6.370379</td><td>6.208698</td><td>6.504152</td><td>6.108508</td><td>7.673535</td><td>6.841333</td><td>8.558770</td><td>8.258313</td></tr>\n",
       "\t<tr><th scope=row>ENSG00000279928</th><td> 5.284883</td><td> 5.116169</td><td>5.116169</td><td> 5.116169</td><td> 5.116169</td><td>5.326773</td><td>5.116169</td><td>5.116169</td><td>5.116169</td><td>5.116169</td><td>⋯</td><td>5.116169</td><td>5.458651</td><td>5.739041</td><td>5.553333</td><td>6.009953</td><td>5.342232</td><td>5.401998</td><td>7.855183</td><td>5.116169</td><td>5.116169</td></tr>\n",
       "</tbody>\n",
       "</table>\n"
      ],
      "text/latex": [
       "A matrix: 6 × 87 of type dbl\n",
       "\\begin{tabular}{r|lllllllllllllllllllll}\n",
       "  & BPDAC\\_023\\_19\\_L1\\_S92 & BPDAC\\_023\\_26\\_L1\\_S5 & BPDAC\\_023\\_26\\_L2\\_S13 & X0823\\_012 & X0823\\_013 & BPDAC\\_025\\_15\\_L1\\_S85 & BPDAC\\_029\\_26\\_L1\\_S70 & BPDAC\\_029\\_26\\_L2\\_S78 & X0923\\_009 & X0923\\_010 & ⋯ & BPDAC\\_017\\_29\\_L1\\_S67 & X0923\\_023 & BPDAC\\_018\\_19\\_L1\\_S83 & BPDAC\\_018\\_22\\_L1\\_S91 & BPDAC\\_018\\_22\\_L2\\_S4 & BPDAC\\_018\\_22\\_L3\\_S12 & BPDAC\\_022\\_25\\_L1\\_S76 & BPDAC\\_022\\_25\\_L2\\_S84 & X0923\\_026 & X0923\\_027\\\\\n",
       "\\hline\n",
       "\tENSG00000160072 &  8.145062 &  8.341551 & 5.116169 &  8.342406 &  7.882671 & 7.787172 & 8.757379 & 7.487186 & 7.358658 & 7.511037 & ⋯ & 6.268452 & 7.858504 & 8.537024 & 8.688237 & 8.111345 & 7.863419 & 7.596872 & 8.171762 & 7.403251 & 7.620162\\\\\n",
       "\tENSG00000234396 &  5.116169 &  5.116169 & 5.116169 &  5.575576 &  5.116169 & 5.326773 & 5.116169 & 5.116169 & 5.116169 & 6.265784 & ⋯ & 5.116169 & 5.116169 & 5.116169 & 5.553333 & 5.493813 & 5.116169 & 5.116169 & 5.116169 & 5.633403 & 5.116169\\\\\n",
       "\tENSG00000225972 & 10.702245 & 10.863453 & 5.116169 & 10.847690 & 11.357258 & 5.947771 & 8.332811 & 6.411068 & 7.196060 & 7.061471 & ⋯ & 6.466289 & 6.843739 & 5.963481 & 5.515496 & 6.281830 & 5.602711 & 6.592640 & 5.116169 & 6.909162 & 6.892850\\\\\n",
       "\tENSG00000224315 &  6.025646 &  5.116169 & 5.116169 &  6.126977 &  6.237218 & 6.186736 & 5.116169 & 5.116169 & 7.347691 & 5.116169 & ⋯ & 5.116169 & 5.875005 & 5.990461 & 5.980846 & 6.568903 & 5.377115 & 5.116169 & 5.116169 & 6.037872 & 6.027392\\\\\n",
       "\tENSG00000198744 &  7.733498 &  7.088121 & 5.116169 &  8.222636 &  7.943229 & 6.464757 & 7.424035 & 6.894736 & 7.991938 & 8.198857 & ⋯ & 6.524640 & 8.034164 & 6.370379 & 6.208698 & 6.504152 & 6.108508 & 7.673535 & 6.841333 & 8.558770 & 8.258313\\\\\n",
       "\tENSG00000279928 &  5.284883 &  5.116169 & 5.116169 &  5.116169 &  5.116169 & 5.326773 & 5.116169 & 5.116169 & 5.116169 & 5.116169 & ⋯ & 5.116169 & 5.458651 & 5.739041 & 5.553333 & 6.009953 & 5.342232 & 5.401998 & 7.855183 & 5.116169 & 5.116169\\\\\n",
       "\\end{tabular}\n"
      ],
      "text/markdown": [
       "\n",
       "A matrix: 6 × 87 of type dbl\n",
       "\n",
       "| <!--/--> | BPDAC_023_19_L1_S92 | BPDAC_023_26_L1_S5 | BPDAC_023_26_L2_S13 | X0823_012 | X0823_013 | BPDAC_025_15_L1_S85 | BPDAC_029_26_L1_S70 | BPDAC_029_26_L2_S78 | X0923_009 | X0923_010 | ⋯ | BPDAC_017_29_L1_S67 | X0923_023 | BPDAC_018_19_L1_S83 | BPDAC_018_22_L1_S91 | BPDAC_018_22_L2_S4 | BPDAC_018_22_L3_S12 | BPDAC_022_25_L1_S76 | BPDAC_022_25_L2_S84 | X0923_026 | X0923_027 |\n",
       "|---|---|---|---|---|---|---|---|---|---|---|---|---|---|---|---|---|---|---|---|---|---|\n",
       "| ENSG00000160072 |  8.145062 |  8.341551 | 5.116169 |  8.342406 |  7.882671 | 7.787172 | 8.757379 | 7.487186 | 7.358658 | 7.511037 | ⋯ | 6.268452 | 7.858504 | 8.537024 | 8.688237 | 8.111345 | 7.863419 | 7.596872 | 8.171762 | 7.403251 | 7.620162 |\n",
       "| ENSG00000234396 |  5.116169 |  5.116169 | 5.116169 |  5.575576 |  5.116169 | 5.326773 | 5.116169 | 5.116169 | 5.116169 | 6.265784 | ⋯ | 5.116169 | 5.116169 | 5.116169 | 5.553333 | 5.493813 | 5.116169 | 5.116169 | 5.116169 | 5.633403 | 5.116169 |\n",
       "| ENSG00000225972 | 10.702245 | 10.863453 | 5.116169 | 10.847690 | 11.357258 | 5.947771 | 8.332811 | 6.411068 | 7.196060 | 7.061471 | ⋯ | 6.466289 | 6.843739 | 5.963481 | 5.515496 | 6.281830 | 5.602711 | 6.592640 | 5.116169 | 6.909162 | 6.892850 |\n",
       "| ENSG00000224315 |  6.025646 |  5.116169 | 5.116169 |  6.126977 |  6.237218 | 6.186736 | 5.116169 | 5.116169 | 7.347691 | 5.116169 | ⋯ | 5.116169 | 5.875005 | 5.990461 | 5.980846 | 6.568903 | 5.377115 | 5.116169 | 5.116169 | 6.037872 | 6.027392 |\n",
       "| ENSG00000198744 |  7.733498 |  7.088121 | 5.116169 |  8.222636 |  7.943229 | 6.464757 | 7.424035 | 6.894736 | 7.991938 | 8.198857 | ⋯ | 6.524640 | 8.034164 | 6.370379 | 6.208698 | 6.504152 | 6.108508 | 7.673535 | 6.841333 | 8.558770 | 8.258313 |\n",
       "| ENSG00000279928 |  5.284883 |  5.116169 | 5.116169 |  5.116169 |  5.116169 | 5.326773 | 5.116169 | 5.116169 | 5.116169 | 5.116169 | ⋯ | 5.116169 | 5.458651 | 5.739041 | 5.553333 | 6.009953 | 5.342232 | 5.401998 | 7.855183 | 5.116169 | 5.116169 |\n",
       "\n"
      ],
      "text/plain": [
       "                BPDAC_023_19_L1_S92 BPDAC_023_26_L1_S5 BPDAC_023_26_L2_S13\n",
       "ENSG00000160072  8.145062            8.341551          5.116169           \n",
       "ENSG00000234396  5.116169            5.116169          5.116169           \n",
       "ENSG00000225972 10.702245           10.863453          5.116169           \n",
       "ENSG00000224315  6.025646            5.116169          5.116169           \n",
       "ENSG00000198744  7.733498            7.088121          5.116169           \n",
       "ENSG00000279928  5.284883            5.116169          5.116169           \n",
       "                X0823_012 X0823_013 BPDAC_025_15_L1_S85 BPDAC_029_26_L1_S70\n",
       "ENSG00000160072  8.342406  7.882671 7.787172            8.757379           \n",
       "ENSG00000234396  5.575576  5.116169 5.326773            5.116169           \n",
       "ENSG00000225972 10.847690 11.357258 5.947771            8.332811           \n",
       "ENSG00000224315  6.126977  6.237218 6.186736            5.116169           \n",
       "ENSG00000198744  8.222636  7.943229 6.464757            7.424035           \n",
       "ENSG00000279928  5.116169  5.116169 5.326773            5.116169           \n",
       "                BPDAC_029_26_L2_S78 X0923_009 X0923_010 ⋯ BPDAC_017_29_L1_S67\n",
       "ENSG00000160072 7.487186            7.358658  7.511037  ⋯ 6.268452           \n",
       "ENSG00000234396 5.116169            5.116169  6.265784  ⋯ 5.116169           \n",
       "ENSG00000225972 6.411068            7.196060  7.061471  ⋯ 6.466289           \n",
       "ENSG00000224315 5.116169            7.347691  5.116169  ⋯ 5.116169           \n",
       "ENSG00000198744 6.894736            7.991938  8.198857  ⋯ 6.524640           \n",
       "ENSG00000279928 5.116169            5.116169  5.116169  ⋯ 5.116169           \n",
       "                X0923_023 BPDAC_018_19_L1_S83 BPDAC_018_22_L1_S91\n",
       "ENSG00000160072 7.858504  8.537024            8.688237           \n",
       "ENSG00000234396 5.116169  5.116169            5.553333           \n",
       "ENSG00000225972 6.843739  5.963481            5.515496           \n",
       "ENSG00000224315 5.875005  5.990461            5.980846           \n",
       "ENSG00000198744 8.034164  6.370379            6.208698           \n",
       "ENSG00000279928 5.458651  5.739041            5.553333           \n",
       "                BPDAC_018_22_L2_S4 BPDAC_018_22_L3_S12 BPDAC_022_25_L1_S76\n",
       "ENSG00000160072 8.111345           7.863419            7.596872           \n",
       "ENSG00000234396 5.493813           5.116169            5.116169           \n",
       "ENSG00000225972 6.281830           5.602711            6.592640           \n",
       "ENSG00000224315 6.568903           5.377115            5.116169           \n",
       "ENSG00000198744 6.504152           6.108508            7.673535           \n",
       "ENSG00000279928 6.009953           5.342232            5.401998           \n",
       "                BPDAC_022_25_L2_S84 X0923_026 X0923_027\n",
       "ENSG00000160072 8.171762            7.403251  7.620162 \n",
       "ENSG00000234396 5.116169            5.633403  5.116169 \n",
       "ENSG00000225972 5.116169            6.909162  6.892850 \n",
       "ENSG00000224315 5.116169            6.037872  6.027392 \n",
       "ENSG00000198744 6.841333            8.558770  8.258313 \n",
       "ENSG00000279928 7.855183            5.116169  5.116169 "
      ]
     },
     "metadata": {},
     "output_type": "display_data"
    }
   ],
   "source": [
    "vsd |> assay() |> head()"
   ]
  },
  {
   "cell_type": "code",
   "execution_count": 13,
   "metadata": {
    "vscode": {
     "languageId": "r"
    }
   },
   "outputs": [],
   "source": [
    "# Save the variance stabilized data\n",
    "vsd |>\n",
    "  assay() |>\n",
    "  as.data.frame() |>\n",
    "  write.csv(file = \"data/PDAC_MICRODISSEC_NAIF/rna_seq_selected_vst.csv\")"
   ]
  }
 ],
 "metadata": {
  "kernelspec": {
   "display_name": "R",
   "language": "R",
   "name": "ir"
  },
  "language_info": {
   "codemirror_mode": "r",
   "file_extension": ".r",
   "mimetype": "text/x-r-source",
   "name": "R",
   "pygments_lexer": "r",
   "version": "4.4.1"
  }
 },
 "nbformat": 4,
 "nbformat_minor": 2
}
